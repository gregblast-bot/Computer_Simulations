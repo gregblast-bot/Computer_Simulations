{
 "cells": [
  {
   "cell_type": "markdown",
   "id": "657674fd",
   "metadata": {},
   "source": [
    "<h1><font color=\"black\">Project 2</font></h1>"
   ]
  },
  {
   "cell_type": "markdown",
   "id": "36e78fc3",
   "metadata": {},
   "source": [
    "<h4><font color=\"red\">Note: All units are in base form of metric units. (e.g. meters, Kilograms, seconds)</font></h4>"
   ]
  },
  {
   "cell_type": "code",
   "execution_count": 1,
   "id": "718d4f03",
   "metadata": {},
   "outputs": [
    {
     "data": {
      "text/html": [
       "<div id=\"glowscript\" class=\"glowscript\"></div>"
      ],
      "text/plain": [
       "<IPython.core.display.HTML object>"
      ]
     },
     "metadata": {},
     "output_type": "display_data"
    },
    {
     "data": {
      "application/javascript": [
       "if (typeof Jupyter !== \"undefined\") { window.__context = { glowscript_container: $(\"#glowscript\").removeAttr(\"id\")};}else{ element.textContent = ' ';}"
      ],
      "text/plain": [
       "<IPython.core.display.Javascript object>"
      ]
     },
     "metadata": {},
     "output_type": "display_data"
    }
   ],
   "source": [
    "from vpython import* \n",
    "import numpy as np\n",
    "import matplotlib.pyplot as plt"
   ]
  },
  {
   "cell_type": "markdown",
   "id": "2ecb1e33",
   "metadata": {},
   "source": [
    "<h2><font color=\"black\">Newton's Cannonball</font></h2>"
   ]
  },
  {
   "cell_type": "markdown",
   "id": "d100eb77",
   "metadata": {},
   "source": [
    "<h3><font color=\"black\">Escape Velocity</font></h3>"
   ]
  },
  {
   "cell_type": "code",
   "execution_count": 2,
   "id": "bd140fdc",
   "metadata": {},
   "outputs": [
    {
     "data": {
      "text/html": [
       "<div id=\"glowscript\" class=\"glowscript\"></div>"
      ],
      "text/plain": [
       "<IPython.core.display.HTML object>"
      ]
     },
     "metadata": {},
     "output_type": "display_data"
    },
    {
     "data": {
      "application/javascript": [
       "if (typeof Jupyter !== \"undefined\") { window.__context = { glowscript_container: $(\"#glowscript\").removeAttr(\"id\")};}else{ element.textContent = ' ';}"
      ],
      "text/plain": [
       "<IPython.core.display.Javascript object>"
      ]
     },
     "metadata": {},
     "output_type": "display_data"
    }
   ],
   "source": [
    "scene = canvas() \n",
    "scene.caption = \"Number of Distinct Hamiltionian Cycles on Kn = (n − 1)!/2. At n = 14, wehave 3.11*10^9. For reference,\""
   ]
  },
  {
   "cell_type": "code",
   "execution_count": null,
   "id": "80ed4e1c",
   "metadata": {},
   "outputs": [
    {
     "data": {
      "application/javascript": [
       "if (typeof Jupyter !== \"undefined\") {require.undef(\"nbextensions/vpython_libraries/glow.min\");}else{element.textContent = ' ';}"
      ],
      "text/plain": [
       "<IPython.core.display.Javascript object>"
      ]
     },
     "metadata": {},
     "output_type": "display_data"
    },
    {
     "data": {
      "application/javascript": [
       "if (typeof Jupyter !== \"undefined\") {require.undef(\"nbextensions/vpython_libraries/glowcomm\");}else{element.textContent = ' ';}"
      ],
      "text/plain": [
       "<IPython.core.display.Javascript object>"
      ]
     },
     "metadata": {},
     "output_type": "display_data"
    },
    {
     "data": {
      "application/javascript": [
       "if (typeof Jupyter !== \"undefined\") {require.undef(\"nbextensions/vpython_libraries/jquery-ui.custom.min\");}else{element.textContent = ' ';}"
      ],
      "text/plain": [
       "<IPython.core.display.Javascript object>"
      ]
     },
     "metadata": {},
     "output_type": "display_data"
    },
    {
     "data": {
      "application/javascript": [
       "if (typeof Jupyter !== \"undefined\") {require([\"nbextensions/vpython_libraries/glow.min\"], function(){console.log(\"GLOW LOADED\");});}else{element.textContent = ' ';}"
      ],
      "text/plain": [
       "<IPython.core.display.Javascript object>"
      ]
     },
     "metadata": {},
     "output_type": "display_data"
    },
    {
     "data": {
      "application/javascript": [
       "if (typeof Jupyter !== \"undefined\") {require([\"nbextensions/vpython_libraries/glowcomm\"], function(){console.log(\"GLOWCOMM LOADED\");});}else{element.textContent = ' ';}"
      ],
      "text/plain": [
       "<IPython.core.display.Javascript object>"
      ]
     },
     "metadata": {},
     "output_type": "display_data"
    },
    {
     "data": {
      "application/javascript": [
       "if (typeof Jupyter !== \"undefined\") {require([\"nbextensions/vpython_libraries/jquery-ui.custom.min\"], function(){console.log(\"JQUERY LOADED\");});}else{element.textContent = ' ';}"
      ],
      "text/plain": [
       "<IPython.core.display.Javascript object>"
      ]
     },
     "metadata": {},
     "output_type": "display_data"
    }
   ],
   "source": [
    "# Initializing variables\n",
    "Me =  5.97219e24\n",
    "Re = 6.37101e6\n",
    "G = 6.67e-11\n",
    "\n",
    "# The cannon is a cylinder object, the ball and cannon are poisitioned in a view favorable to the frame of reference\n",
    "cannon = cylinder(pos=vector(0,0,1), axis=vector(7,7,0), radius=1)\n",
    "ball = sphere(pos=vector(3,3,0), radius=0.5, color=color.magenta, make_trail=True)\n",
    "earth = sphere(pos=vector(0,0,0), radius=Re, color=color.green)\n",
    "\n",
    "# Escape velocity is given, this and Earth's radius is scaled down by a factor of approximately 100. \n",
    "# theta is chosen for it's symmetry.\n",
    "v0 = 112\n",
    "theta = pi/4\n",
    "\n",
    "# The ball's velocity components are determined from the initial velocity, trigonometric functions, and theta\n",
    "ball.velocity = vector(v0*cos(theta),v0*sin(theta),0)\n",
    "vscale = 0.05\n",
    "varr = arrow(pos=ball.pos, axis=vscale*ball.velocity, color=color.cyan)\n",
    "scene.autoscale = False\n",
    "t = 0 \n",
    "dt = 1\n",
    "ball.p = ball.velocity\n",
    "\n",
    "while t < 10e3:\n",
    "    rate(10000)\n",
    "    r = ball.pos - earth.pos\n",
    "    rmag = mag(r)\n",
    "    gf = (G * Me) / (rmag**2)\n",
    "    ball.p.x = ball.p.x + (gf * dt)\n",
    "    ball.p.y = ball.p.y + (gf * dt)\n",
    "    ball.p.z = ball.p.z + (gf * dt)\n",
    "    ball.pos = ball.pos + (ball.p * dt)\n",
    "    theta = atan(r.y/r.x)\n",
    "    t = t + dt\n",
    "    varr.pos = ball.pos\n",
    "    varr.axis = vscale*ball.velocity"
   ]
  },
  {
   "cell_type": "markdown",
   "id": "16e2dc23",
   "metadata": {},
   "source": [
    "<h3><font color=\"black\">Orbital Velocity</font></h3>"
   ]
  },
  {
   "cell_type": "code",
   "execution_count": 21,
   "id": "cd3cd542",
   "metadata": {},
   "outputs": [
    {
     "data": {
      "text/html": [
       "<div id=\"glowscript\" class=\"glowscript\"></div>"
      ],
      "text/plain": [
       "<IPython.core.display.HTML object>"
      ]
     },
     "metadata": {},
     "output_type": "display_data"
    },
    {
     "data": {
      "application/javascript": [
       "if (typeof Jupyter !== \"undefined\") { window.__context = { glowscript_container: $(\"#glowscript\").removeAttr(\"id\")};}else{ element.textContent = ' ';}"
      ],
      "text/plain": [
       "<IPython.core.display.Javascript object>"
      ]
     },
     "metadata": {},
     "output_type": "display_data"
    }
   ],
   "source": [
    "scene = canvas() "
   ]
  },
  {
   "cell_type": "code",
   "execution_count": 22,
   "id": "c14bc266",
   "metadata": {},
   "outputs": [],
   "source": [
    "# Initializing variables\n",
    "Me =  5.97219e24\n",
    "Re = 6.37101e6\n",
    "G = 6.67e-11\n",
    "\n",
    "# The cannon is a cylinder object, the ball and cannon are poisitioned in a view favorable to the frame of reference\n",
    "cannon = cylinder(pos=vector(0,0,1), axis=vector(7,7,0), radius=1)\n",
    "ball = sphere(pos=vector(3,3,0), radius=0.5, color=color.magenta, make_trail=True)\n",
    "earth = sphere(pos=vector(0,0,0), radius=Re, color=color.green)\n",
    "\n",
    "# Escape velocity is given, this and Earth's radius is scaled down by a factor of approximately 100. \n",
    "# theta is chosen for it's symmetry.\n",
    "v0 = 80\n",
    "theta = pi/4\n",
    "\n",
    "# The ball's velocity components are determined from the initial velocity, trigonometric functions, and theta\n",
    "ball.velocity = vector(v0*cos(theta),v0*sin(theta),0)\n",
    "#ball.velocity=v0*norm(cross(ball.pos,vector(0,0,1)))\n",
    "vscale = 0.05\n",
    "varr = arrow(pos=ball.pos, axis=vscale*ball.velocity, color=color.cyan)\n",
    "scene.autoscale = False\n",
    "t = 0 \n",
    "dt = 1\n",
    "ball.p = ball.velocity\n",
    "\n",
    "while t < 3:\n",
    "    rate(100)\n",
    "    r = ball.pos - earth.pos\n",
    "    rmag = mag(r)\n",
    "    gf = (G * Me) / (rmag**2)\n",
    "    ball.p.x = ball.p.x + (gf * dt)\n",
    "    ball.p.y = ball.p.y + (gf * dt)\n",
    "    ball.p.z = ball.p.z + (gf * dt)\n",
    "    ball.pos = ball.pos + (ball.p * dt)\n",
    "    theta = atan(r.y/r.x)\n",
    "    t = t + dt\n",
    "    varr.pos = ball.pos\n",
    "    varr.axis = vscale*ball.velocity"
   ]
  },
  {
   "cell_type": "markdown",
   "id": "c7af5c89",
   "metadata": {},
   "source": [
    "<h2><font color=\"black\">Solar System Orbits</font></h2>"
   ]
  },
  {
   "cell_type": "code",
   "execution_count": 11,
   "id": "cabab354",
   "metadata": {},
   "outputs": [
    {
     "data": {
      "text/html": [
       "<div id=\"glowscript\" class=\"glowscript\"></div>"
      ],
      "text/plain": [
       "<IPython.core.display.HTML object>"
      ]
     },
     "metadata": {},
     "output_type": "display_data"
    },
    {
     "data": {
      "application/javascript": [
       "if (typeof Jupyter !== \"undefined\") { window.__context = { glowscript_container: $(\"#glowscript\").removeAttr(\"id\")};}else{ element.textContent = ' ';}"
      ],
      "text/plain": [
       "<IPython.core.display.Javascript object>"
      ]
     },
     "metadata": {},
     "output_type": "display_data"
    }
   ],
   "source": [
    "scene = canvas()"
   ]
  },
  {
   "cell_type": "code",
   "execution_count": 12,
   "id": "4c10b207",
   "metadata": {},
   "outputs": [],
   "source": [
    "# All dictionary data structures created with information collected at https://ssd.jpl.nasa.gov/horizons/app.html#/\n",
    "# mass (kg), radius (km), position (km), velocity (km/s)\n",
    "# Time Specification: Start=2022-02-9 TDB , Stop=2022-02-10, Step=1 (days)\n",
    "        \n",
    "bigObjects = {\n",
    "    \n",
    "    \"sun\" : {\n",
    "        \"mass\": 1988500e24,\n",
    "        \"radius\": 695700,\n",
    "        \"position\": vector(-1.302058316317601e6, 4.512022723117935e5, 2.672075564563886e4),\n",
    "        \"velocity\": vector(-5.129723683603866e-3, -1.477446660333446e-2, 2.407523351545555e-4),\n",
    "        \"acceleration\": vector(0,0,0),\n",
    "        \"force\": [],\n",
    "        \"force sum\": vector(0,0,0),\n",
    "        \"color\": color.yellow,\n",
    "        \"texture\": textures.stucco\n",
    "    }, \n",
    "    \n",
    "    \"mercury\" : {\n",
    "        \"mass\": 3.302e23,\n",
    "        \"radius\": 2440.00,\n",
    "        \"position\": vector(-6.005022943295365e7, -1.858915579664946e7, 3.859558676085640e6),\n",
    "        \"velocity\": vector(4.918608525595635e0, -4.425439246047407e1, -4.066597472855369e0),\n",
    "        \"acceleration\": vector(0,0,0),\n",
    "        \"force\": [],\n",
    "        \"force sum\": vector(0,0,0),\n",
    "        \"color\": color.white,\n",
    "        \"texture\": textures.stucco\n",
    "    },\n",
    "\n",
    "    \"venus\" : {\n",
    "        \"mass\": 48.685e23,\n",
    "        \"radius\": 6051.84,\n",
    "        \"position\": vector(-1.013547870890493e8, 3.941706615131595e7, 6.334867365462478e6),\n",
    "        \"velocity\": vector(-1.287589609315462e1, -3.281064800508927e1, 2.927419933876667e-1),\n",
    "        \"acceleration\": vector(0,0,0),\n",
    "        \"force\": [],\n",
    "        \"force sum\": vector(0,0,0),\n",
    "        \"color\": color.purple,\n",
    "        \"texture\": textures.stucco\n",
    "    },\n",
    "\n",
    "    \"earth\" : {\n",
    "        \"mass\": 5.97219e24,\n",
    "        \"radius\": 6371.01,\n",
    "        \"position\": vector(-1.141922852135157e8, 9.550967084444456e7, 2.264394424832612e4),\n",
    "        \"velocity\": vector(-1.966791594975446e1, -2.292130695574529e1, 4.367212120914843e-4),\n",
    "        \"acceleration\": vector(0,0,0),\n",
    "        \"force\": [],\n",
    "        \"force sum\": vector(0,0,0),\n",
    "        \"color\": color.cyan,\n",
    "        \"texture\": textures.stucco\n",
    "    },\n",
    "\n",
    "    \"mars\" : {\n",
    "        \"mass\": 6.4171e23,\n",
    "        \"radius\": 3389.92,\n",
    "        \"position\": vector(-5.378724887223905e7, -2.155310859823264e8, -3.212329368839905e6),\n",
    "        \"velocity\": vector(2.445049381852640e1, -3.654096743451167e0, -6.759264603285486e-1),\n",
    "        \"acceleration\": vector(0,0,0),\n",
    "        \"force\": [],\n",
    "        \"force sum\": vector(0,0,0),\n",
    "        \"color\": color.red,\n",
    "        \"texture\": textures.stucco\n",
    "    }\n",
    "}"
   ]
  },
  {
   "cell_type": "code",
   "execution_count": 13,
   "id": "c74a8f50",
   "metadata": {
    "scrolled": true
   },
   "outputs": [
    {
     "ename": "KeyboardInterrupt",
     "evalue": "",
     "output_type": "error",
     "traceback": [
      "\u001b[1;31m---------------------------------------------------------------------------\u001b[0m",
      "\u001b[1;31mKeyboardInterrupt\u001b[0m                         Traceback (most recent call last)",
      "\u001b[1;32mC:\\Users\\chris\\AppData\\Local\\Temp\\ipykernel_10144\\2210915653.py\u001b[0m in \u001b[0;36m<module>\u001b[1;34m\u001b[0m\n\u001b[0;32m     88\u001b[0m     \u001b[0mrate\u001b[0m\u001b[1;33m(\u001b[0m\u001b[1;36m10000000\u001b[0m\u001b[1;33m)\u001b[0m\u001b[1;33m\u001b[0m\u001b[1;33m\u001b[0m\u001b[0m\n\u001b[0;32m     89\u001b[0m     \u001b[1;32mfor\u001b[0m \u001b[0mbody\u001b[0m \u001b[1;32min\u001b[0m \u001b[0mbodies\u001b[0m\u001b[1;33m:\u001b[0m\u001b[1;33m\u001b[0m\u001b[1;33m\u001b[0m\u001b[0m\n\u001b[1;32m---> 90\u001b[1;33m         \u001b[0mbody\u001b[0m\u001b[1;33m.\u001b[0m\u001b[0mupdate\u001b[0m\u001b[1;33m(\u001b[0m\u001b[1;33m)\u001b[0m\u001b[1;33m\u001b[0m\u001b[1;33m\u001b[0m\u001b[0m\n\u001b[0m\u001b[0;32m     91\u001b[0m     \u001b[1;32mfor\u001b[0m \u001b[0mbody\u001b[0m \u001b[1;32min\u001b[0m \u001b[0mbodies\u001b[0m\u001b[1;33m:\u001b[0m\u001b[1;33m\u001b[0m\u001b[1;33m\u001b[0m\u001b[0m\n\u001b[0;32m     92\u001b[0m         \u001b[0mbody\u001b[0m\u001b[1;33m.\u001b[0m\u001b[0mmove\u001b[0m\u001b[1;33m(\u001b[0m\u001b[1;33m)\u001b[0m\u001b[1;33m\u001b[0m\u001b[1;33m\u001b[0m\u001b[0m\n",
      "\u001b[1;32mC:\\Users\\chris\\AppData\\Local\\Temp\\ipykernel_10144\\2210915653.py\u001b[0m in \u001b[0;36mupdate\u001b[1;34m(self)\u001b[0m\n\u001b[0;32m     26\u001b[0m         \u001b[0mself\u001b[0m\u001b[1;33m.\u001b[0m\u001b[0mf\u001b[0m \u001b[1;33m=\u001b[0m \u001b[1;33m[\u001b[0m\u001b[1;33m]\u001b[0m\u001b[1;33m\u001b[0m\u001b[1;33m\u001b[0m\u001b[0m\n\u001b[0;32m     27\u001b[0m         \u001b[0mself\u001b[0m\u001b[1;33m.\u001b[0m\u001b[0mfsum\u001b[0m \u001b[1;33m=\u001b[0m \u001b[0mvector\u001b[0m\u001b[1;33m(\u001b[0m\u001b[1;36m0\u001b[0m\u001b[1;33m,\u001b[0m\u001b[1;36m0\u001b[0m\u001b[1;33m,\u001b[0m\u001b[1;36m0\u001b[0m\u001b[1;33m)\u001b[0m\u001b[1;33m\u001b[0m\u001b[1;33m\u001b[0m\u001b[0m\n\u001b[1;32m---> 28\u001b[1;33m         \u001b[0mself\u001b[0m\u001b[1;33m.\u001b[0m\u001b[0mgForce\u001b[0m\u001b[1;33m(\u001b[0m\u001b[1;33m)\u001b[0m\u001b[1;33m\u001b[0m\u001b[1;33m\u001b[0m\u001b[0m\n\u001b[0m\u001b[0;32m     29\u001b[0m \u001b[1;33m\u001b[0m\u001b[0m\n\u001b[0;32m     30\u001b[0m         \u001b[1;31m# Sum all forces\u001b[0m\u001b[1;33m\u001b[0m\u001b[1;33m\u001b[0m\u001b[1;33m\u001b[0m\u001b[0m\n",
      "\u001b[1;32mC:\\Users\\chris\\AppData\\Local\\Temp\\ipykernel_10144\\2210915653.py\u001b[0m in \u001b[0;36mgForce\u001b[1;34m(self)\u001b[0m\n\u001b[0;32m     47\u001b[0m             \u001b[0mrmag\u001b[0m \u001b[1;33m=\u001b[0m \u001b[0mmag\u001b[0m\u001b[1;33m(\u001b[0m\u001b[0mself\u001b[0m\u001b[1;33m.\u001b[0m\u001b[0mp\u001b[0m\u001b[1;33m-\u001b[0m\u001b[0mbody\u001b[0m\u001b[1;33m.\u001b[0m\u001b[0mp\u001b[0m\u001b[1;33m)\u001b[0m\u001b[1;33m\u001b[0m\u001b[1;33m\u001b[0m\u001b[0m\n\u001b[0;32m     48\u001b[0m             \u001b[1;31m# Continue if bigObject is itself\u001b[0m\u001b[1;33m\u001b[0m\u001b[1;33m\u001b[0m\u001b[1;33m\u001b[0m\u001b[0m\n\u001b[1;32m---> 49\u001b[1;33m             \u001b[1;32mif\u001b[0m \u001b[0mrmag\u001b[0m \u001b[1;33m<\u001b[0m \u001b[0mself\u001b[0m\u001b[1;33m.\u001b[0m\u001b[0mr\u001b[0m\u001b[1;33m+\u001b[0m\u001b[0mbody\u001b[0m\u001b[1;33m.\u001b[0m\u001b[0mr\u001b[0m\u001b[1;33m:\u001b[0m\u001b[1;33m\u001b[0m\u001b[1;33m\u001b[0m\u001b[0m\n\u001b[0m\u001b[0;32m     50\u001b[0m                 \u001b[1;32mcontinue\u001b[0m\u001b[1;33m\u001b[0m\u001b[1;33m\u001b[0m\u001b[0m\n\u001b[0;32m     51\u001b[0m             \u001b[1;31m# Formula for gravitational force\u001b[0m\u001b[1;33m\u001b[0m\u001b[1;33m\u001b[0m\u001b[1;33m\u001b[0m\u001b[0m\n",
      "\u001b[1;31mKeyboardInterrupt\u001b[0m: "
     ]
    }
   ],
   "source": [
    "# Gravitational constant in (km^3)/(kg*s^2)\n",
    "G = 6.674e-11\n",
    "# Time and change in time\n",
    "t = 0\n",
    "dt = 0.01\n",
    "# Creating a list to hold the bigObjects\n",
    "bodies = []\n",
    "\n",
    "# Construct a solid working class\n",
    "class Work():\n",
    "    def __init__(self,m,r,p,v,a,f,fsum,c,t):\n",
    "            self.m = m\n",
    "            self.r = r\n",
    "            self.p = p\n",
    "            self.v = v\n",
    "            self.a = a\n",
    "            self.f = f\n",
    "            self.fsum = fsum\n",
    "            self.c = c\n",
    "            self.t = t\n",
    "            self.sphere = sphere(mass=self.m, radius=self.r, pos=self.p, \n",
    "                                 velocity=self.v, color=self.c, texture=self.t, make_trail=True, retain=50)\n",
    "            bodies.append(self)\n",
    "            \n",
    "    def update(self):\n",
    "        self.f = []\n",
    "        self.fsum = vector(0,0,0)\n",
    "        self.gForce()\n",
    "\n",
    "        # Sum all forces\n",
    "        for force in self.f:\n",
    "            self.fsum = self.fsum + force\n",
    "            \n",
    "        # F = ma\n",
    "        self.a = self.fsum/self.m\n",
    "        self.v = self.v + (dt * self.a)\n",
    "    \n",
    "    # Separate move function from update, else planets fly away\n",
    "    def move(self):\n",
    "        self.p = self.p + (dt * self.v)\n",
    "        self.sphere.pos = self.p\n",
    "        \n",
    "    def gForce(self):\n",
    "        # Loop over all bigObjects\n",
    "        for body in bodies:\n",
    "            # Magnitude of radius between bigObjects\n",
    "            rmag = mag(self.p-body.p)\n",
    "            # Continue if bigObject is itself\n",
    "            if rmag < self.r+body.r:\n",
    "                continue\n",
    "            # Formula for gravitational force\n",
    "            gf = (G * self.m * body.m) / (rmag**2)\n",
    "            # Normalize position and calaculate the force vector\n",
    "            normal = norm(body.p-self.p)\n",
    "            gf = gf * normal\n",
    "            # append gravitational force to list of forces\n",
    "            self.f.append(gf)\n",
    "    \n",
    "    # Plotting function\n",
    "    def plotting(self):\n",
    "        plt.plot(dt, mag(self.p))\n",
    "        plt.show()\n",
    "\n",
    "# All values pulled from nested dictionary above\n",
    "# Multiplying the radius of the planets by a factor of 100 \n",
    "Work(bigObjects[\"sun\"][\"mass\"], bigObjects[\"sun\"][\"radius\"]*10, bigObjects[\"sun\"][\"position\"], \n",
    "     bigObjects[\"sun\"][\"velocity\"], bigObjects[\"sun\"][\"acceleration\"], bigObjects[\"sun\"][\"force\"], \n",
    "     bigObjects[\"sun\"][\"force sum\"], bigObjects[\"sun\"][\"color\"], bigObjects[\"sun\"][\"texture\"])\n",
    "\n",
    "Work(bigObjects[\"mercury\"][\"mass\"], bigObjects[\"mercury\"][\"radius\"]*1000, bigObjects[\"mercury\"][\"position\"], \n",
    "     bigObjects[\"mercury\"][\"velocity\"], bigObjects[\"mercury\"][\"acceleration\"], bigObjects[\"mercury\"][\"force\"], \n",
    "     bigObjects[\"mercury\"][\"force sum\"], bigObjects[\"mercury\"][\"color\"], bigObjects[\"mercury\"][\"texture\"])\n",
    "\n",
    "Work(bigObjects[\"venus\"][\"mass\"], bigObjects[\"venus\"][\"radius\"]*1000, bigObjects[\"venus\"][\"position\"], \n",
    "     bigObjects[\"venus\"][\"velocity\"], bigObjects[\"venus\"][\"acceleration\"], bigObjects[\"venus\"][\"force\"], \n",
    "     bigObjects[\"venus\"][\"force sum\"], bigObjects[\"venus\"][\"color\"], bigObjects[\"venus\"][\"texture\"])\n",
    "\n",
    "Work(bigObjects[\"earth\"][\"mass\"], bigObjects[\"earth\"][\"radius\"]*1000, bigObjects[\"earth\"][\"position\"], \n",
    "     bigObjects[\"earth\"][\"velocity\"], bigObjects[\"earth\"][\"acceleration\"], bigObjects[\"earth\"][\"force\"], \n",
    "     bigObjects[\"earth\"][\"force sum\"], bigObjects[\"earth\"][\"color\"], bigObjects[\"earth\"][\"texture\"])\n",
    "\n",
    "Work(bigObjects[\"mars\"][\"mass\"], bigObjects[\"mars\"][\"radius\"]*1000, bigObjects[\"mars\"][\"position\"], \n",
    "     bigObjects[\"mars\"][\"velocity\"], bigObjects[\"mars\"][\"acceleration\"], bigObjects[\"mars\"][\"force\"], \n",
    "     bigObjects[\"mars\"][\"force sum\"], bigObjects[\"mars\"][\"color\"], bigObjects[\"mars\"][\"texture\"])\n",
    "\n",
    "# loop over every body and run its update method\n",
    "while True:\n",
    "    rate(10000000)\n",
    "    for body in bodies:\n",
    "        body.update()\n",
    "    for body in bodies:\n",
    "        body.move()\n",
    "    t = t + dt"
   ]
  },
  {
   "cell_type": "markdown",
   "id": "11cd25f9",
   "metadata": {},
   "source": [
    "<h2><font color=\"black\">Analysis</font></h2>"
   ]
  },
  {
   "cell_type": "markdown",
   "id": "53ef1b8c",
   "metadata": {},
   "source": [
    "<h4><font color=\"black\">The simulation does not work as intended. The orbits are missing some key component to give them their proper orbit. I do have not made proper plots yet for this reason.</font></h4>"
   ]
  }
 ],
 "metadata": {
  "kernelspec": {
   "display_name": "Python 3 (ipykernel)",
   "language": "python",
   "name": "python3"
  },
  "language_info": {
   "codemirror_mode": {
    "name": "ipython",
    "version": 3
   },
   "file_extension": ".py",
   "mimetype": "text/x-python",
   "name": "python",
   "nbconvert_exporter": "python",
   "pygments_lexer": "ipython3",
   "version": "3.7.11"
  }
 },
 "nbformat": 4,
 "nbformat_minor": 5
}
