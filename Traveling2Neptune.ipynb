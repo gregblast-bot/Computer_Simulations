{
 "cells": [
  {
   "cell_type": "markdown",
   "id": "33af11e7",
   "metadata": {},
   "source": [
    "<h1>Solar System</h1>\n",
    "<h2>Intial Conditions</h2>\n",
    "<p>All inital positions and velocites are based on 1 February 2022 at 00:00</p>\n",
    "<p>All position/velocity units are measured in KM</p>\n",
    "<p>G was changed by a magnitude of 1 milllion due to the conversion from m^3 to km^3</p>\n",
    "<p>Object parameters were based on actual values but scaled visually. In order to properly view the vastness of the solar system with relative ease, the radii of each planet/star were scaled. This scaled value is not used within later calculations but only for visual effects. Also the scale amount is not consistant about each planet/star simply due to visual needs within the simulation. You can see the scale amounts per each planet/star when each object is initailized, it is mulitplied by the actual radii of each planet/star.</p>\n",
    "<p>Simulation time was decided based on a guess and check method to determine what simulation speed seemed pleasent to the eyes while still allowing for simulation completion.</p>\n",
    "\n",
    "<h2>Approach</h2>\n",
    "<p>All values found were based on NASA's horizions app and the units were set to kilometers and seconds</p>\n",
    "<p>When approaching the calculations, it was decided that the best approach was to relate the velocity of the objects to the force and mass directily through momentum. Momentum = mass * velocity so it only seemed like the right choice. After finding the gravitational force (GForce) of each object on each object (ie. the summation of all individial GForces) the Euler-Cromer method for derivation was used to relate momentum and force directly to position. The next state momentum = previous momentum + (net force * dt). This is due to force being the momentum over time of an object, we can therefore derive momentum that way. Position was then related to the momentum by the equation next position = previous position + ((next momentum * dt)/mass).</p>\n",
    "<p>The data structures that were used were primarily lists and dictionaries. Lists were used to store the values that we wanted to graph after the simulation was over in order to visually validate our findings. Dictionaries were used as the primary storage source for the data realted to each planet/star. The dictionary \"solarObjects\" is a nested dictionary that contains 5 dictionaries, each containing data regarding their respective planets/stars. Dictionaries were used to that values were not forced to be stored within the vpython objects directly and impact performance even more, they are also better visually and allow for the user to understand the structure of the stored data.</p>\n",
    "<p>Functions were used sparingly however, they were used for the purpose of allowing ease of reading for the user and allowing each code block to become more compact when running. They were also used to enable the simulation to update values and perform calculations before they effected the other planets/stars. </p>"
   ]
  },
  {
   "cell_type": "code",
   "execution_count": 1,
   "id": "20533f1d",
   "metadata": {},
   "outputs": [
    {
     "data": {
      "text/html": [
       "<div id=\"glowscript\" class=\"glowscript\"></div>"
      ],
      "text/plain": [
       "<IPython.core.display.HTML object>"
      ]
     },
     "metadata": {},
     "output_type": "display_data"
    },
    {
     "data": {
      "application/javascript": [
       "if (typeof Jupyter !== \"undefined\") { window.__context = { glowscript_container: $(\"#glowscript\").removeAttr(\"id\")};}else{ element.textContent = ' ';}"
      ],
      "text/plain": [
       "<IPython.core.display.Javascript object>"
      ]
     },
     "metadata": {},
     "output_type": "display_data"
    },
    {
     "data": {
      "text/html": [
       "<div id=\"glowscript\" class=\"glowscript\"></div>"
      ],
      "text/plain": [
       "<IPython.core.display.HTML object>"
      ]
     },
     "metadata": {},
     "output_type": "display_data"
    },
    {
     "data": {
      "application/javascript": [
       "if (typeof Jupyter !== \"undefined\") { window.__context = { glowscript_container: $(\"#glowscript\").removeAttr(\"id\")};}else{ element.textContent = ' ';}"
      ],
      "text/plain": [
       "<IPython.core.display.Javascript object>"
      ]
     },
     "metadata": {},
     "output_type": "display_data"
    }
   ],
   "source": [
    "################### IMPORTS ###################\n",
    "from vpython import *\n",
    "import matplotlib.pyplot as pyplot\n",
    "import numpy as np\n",
    "################### SET UP CANVAS ###################\n",
    "scene=canvas() \n",
    "scene.caption = \" Number of Distinct Hamiltionian Cycles on Kn = (n − 1)!/2.\\n At n = 14, we have 3.11*10^9. For reference, Neptune is approximately 2.85*10^9 miles from Earth (01Feb2022).\\n A rocket ship traveling 7.78 km/s would take roughly 18 years to get to Neptune.\\n Our rocket ship is the green line traveling to the outermost purple orbit.\""
   ]
  },
  {
   "cell_type": "code",
   "execution_count": 2,
   "id": "3ae562d9",
   "metadata": {},
   "outputs": [],
   "source": [
    "################### CONSTANTS ###################\n",
    "G = 6.674e-20 #gravitational constant [km^3*kg^-1*s^-2]\n",
    "max_time = 1e5"
   ]
  },
  {
   "cell_type": "code",
   "execution_count": 3,
   "id": "1a3d8f59",
   "metadata": {},
   "outputs": [],
   "source": [
    "################### DATA STRUCTURES ###################\n",
    "sun = {\n",
    "    \"mass\": 1.989e30, #[kg]\n",
    "    \"pos\": vector(0,0,0),\n",
    "    \"velocity\": vector(0,0,0), #[km/s]\n",
    "    \"radius\": 696000, #[km]\n",
    "    \"momentum\": vector(0,0,0), #[kg*km/s]\n",
    "    \"GForce\": vector(0,0,0) #[Newtons]\n",
    "      }\n",
    "mercury = {\n",
    "    \"mass\": 3.285e23, #[kg]\n",
    "    \"pos\": vector(-5.343e7,1.1272e7,5.941e6),\n",
    "    \"velocity\": vector(-2.137e1,-4.530e1,-1.740), #[km/s]\n",
    "    \"radius\": 2440, #[km]\n",
    "    \"momentum\": 3.285e23*vector(-2.137e1,-4.530e1,-1.740), #[kg*km/s]\n",
    "    \"GForce\": vector(0,0,0) #[Newtons]\n",
    "      }\n",
    "venus = {\n",
    "    \"mass\": 4.868e24, #[kg]\n",
    "    \"pos\": vector(-8.869e7,6.045e7,5.947e6),\n",
    "    \"velocity\": vector(-1.986e1,-2.911e1,7.465e-1), #[km/s]\n",
    "    \"radius\": 6051, #[km]\n",
    "    \"momentum\": 4.868e24*vector(-1.986e1,-2.911e1,7.465e-1), #[kg*km/s]\n",
    "    \"GForce\": vector(0,0,0) #[Newtons]\n",
    "      }\n",
    "earth = {\n",
    "    \"mass\": 5.972e24, #[kg]\n",
    "    \"pos\": vector(-9.822e7,1.099e8,-4.540e3),\n",
    "    \"velocity\": vector(-2.270e1,-1.997e1,1.517e-3), #[km/s]\n",
    "    \"radius\": 6371, #[km]\n",
    "    \"momentum\": 5.972e24*vector(-2.270e1,-1.997e1,1.517e-3), #[kg*km/s]\n",
    "    \"GForce\": vector(0,0,0) #[Newtons]\n",
    "      }\n",
    "mars = {\n",
    "    \"mass\": 6.417e23, #[kg]\n",
    "    \"pos\": vector(-6.922e7,-2.128e8,-2.762e6),\n",
    "    \"velocity\": vector(2.395e1,-5.412,-7.009e-1), #[km/s]\n",
    "    \"radius\": 3389, #[km]\n",
    "    \"momentum\": 6.417e23*vector(2.395e1,-5.412,-7.009e-1), #[kg*km/s]\n",
    "    \"GForce\": vector(0,0,0) #[Newtons]\n",
    "      }\n",
    "jupiter = {\n",
    "    \"mass\": 1.898e27, #[kg]\n",
    "    \"pos\": vector(7.082e8,-2.338e8,-1.487e7),\n",
    "    \"velocity\": vector(3.945,1.303e1,-1.424e-1), #[km/s]\n",
    "    \"radius\": 71492, #[km]\n",
    "    \"momentum\": 1.898e27*vector(3.945,1.303e1,-1.424e-1), #[kg*km/s]\n",
    "    \"GForce\": vector(0,0,0) #[Newtons]\n",
    "      }\n",
    "saturn = {\n",
    "    \"mass\": 5.683e26, #[kg]\n",
    "    \"pos\": vector(1.058e9,-1.039e9,-2.405e7),\n",
    "    \"velocity\": vector(6.236,6.885,-3.679e-1), #[km/s]\n",
    "    \"radius\": 60268, #[km]\n",
    "    \"momentum\": 5.683e26*vector(6.236,6.885,-3.679e-1), #[kg*km/s]\n",
    "    \"GForce\": vector(0,0,0) #[Newtons]\n",
    "      }\n",
    "uranus = {\n",
    "    \"mass\": 8.681e25, #[kg]\n",
    "    \"pos\": vector(2.141e9,2.029e9,-2.021e7),\n",
    "    \"velocity\": vector(-4.731,4.639,7.816e-2), #[km/s]\n",
    "    \"radius\": 25559, #[km]\n",
    "    \"momentum\": 8.681e25*vector(-4.731,4.639,7.816e-2), #[kg*km/s]\n",
    "    \"GForce\": vector(0,0,0) #[Newtons]\n",
    "      }\n",
    "neptune = {\n",
    "    \"mass\": 1.024e26, #[kg]\n",
    "    \"pos\": vector(4.435e9,-5.974e8,-8.991e7),\n",
    "    \"velocity\": vector(6.953e-1,5.434,-1.280e-1), #[km/s]\n",
    "    \"radius\": 24624, #[km]\n",
    "    \"momentum\": 1.024e26*vector(6.953e-1,5.434,-1.280e-1), #[kg*km/s]\n",
    "    \"GForce\": vector(0,0,0) #[Newtons]\n",
    "      }\n",
    "rocket = {\n",
    "    \"mass\": 122683, #[kg]\n",
    "    \"pos\": vector(-9.822e7,1.099e8,-4.540e3),\n",
    "    \"velocity\": vector(7.78,0,0), #[km/s]\n",
    "    \"radius\": 0.00435, #[km]\n",
    "    \"momentum\": 122683*vector(7.78,0,0), #[kg*km/s]\n",
    "    \"GForce\": vector(0,0,0) #[Newtons]\n",
    "      }\n",
    "\n",
    "solarObjects = { #empty dictionary meant to hold all objects\n",
    "    \"sun\": sun,\n",
    "    \"mercury\": mercury,\n",
    "    \"venus\": venus,\n",
    "    \"earth\": earth,\n",
    "    \"mars\": mars,\n",
    "    \"jupiter\": jupiter,\n",
    "    \"saturn\": saturn,\n",
    "    \"uranus\": uranus,\n",
    "    \"neptune\": neptune,\n",
    "    \"rocket\": rocket\n",
    "      } \n",
    "\n",
    "#store the average orbital velocites at each point in time\n",
    "mercuryV = []\n",
    "venusV = []\n",
    "earthV = []\n",
    "marsV = []\n",
    "jupiterV = []\n",
    "saturnV = []\n",
    "uranusV = []\n",
    "neptuneV = []\n",
    "time = []"
   ]
  },
  {
   "cell_type": "code",
   "execution_count": 4,
   "id": "ac1e588e",
   "metadata": {},
   "outputs": [
    {
     "data": {
      "application/javascript": [
       "if (typeof Jupyter !== \"undefined\") {require.undef(\"nbextensions/vpython_libraries/glow.min\");}else{element.textContent = ' ';}"
      ],
      "text/plain": [
       "<IPython.core.display.Javascript object>"
      ]
     },
     "metadata": {},
     "output_type": "display_data"
    },
    {
     "data": {
      "application/javascript": [
       "if (typeof Jupyter !== \"undefined\") {require.undef(\"nbextensions/vpython_libraries/glowcomm\");}else{element.textContent = ' ';}"
      ],
      "text/plain": [
       "<IPython.core.display.Javascript object>"
      ]
     },
     "metadata": {},
     "output_type": "display_data"
    },
    {
     "data": {
      "application/javascript": [
       "if (typeof Jupyter !== \"undefined\") {require.undef(\"nbextensions/vpython_libraries/jquery-ui.custom.min\");}else{element.textContent = ' ';}"
      ],
      "text/plain": [
       "<IPython.core.display.Javascript object>"
      ]
     },
     "metadata": {},
     "output_type": "display_data"
    },
    {
     "data": {
      "application/javascript": [
       "if (typeof Jupyter !== \"undefined\") {require([\"nbextensions/vpython_libraries/glow.min\"], function(){console.log(\"GLOW LOADED\");});}else{element.textContent = ' ';}"
      ],
      "text/plain": [
       "<IPython.core.display.Javascript object>"
      ]
     },
     "metadata": {},
     "output_type": "display_data"
    },
    {
     "data": {
      "application/javascript": [
       "if (typeof Jupyter !== \"undefined\") {require([\"nbextensions/vpython_libraries/glowcomm\"], function(){console.log(\"GLOWCOMM LOADED\");});}else{element.textContent = ' ';}"
      ],
      "text/plain": [
       "<IPython.core.display.Javascript object>"
      ]
     },
     "metadata": {},
     "output_type": "display_data"
    },
    {
     "data": {
      "application/javascript": [
       "if (typeof Jupyter !== \"undefined\") {require([\"nbextensions/vpython_libraries/jquery-ui.custom.min\"], function(){console.log(\"JQUERY LOADED\");});}else{element.textContent = ' ';}"
      ],
      "text/plain": [
       "<IPython.core.display.Javascript object>"
      ]
     },
     "metadata": {},
     "output_type": "display_data"
    }
   ],
   "source": [
    "################### OBJECTS ###################\n",
    "sun_sphere = sphere(\n",
    "                pos=solarObjects['sun']['pos'],\n",
    "                radius=solarObjects['sun']['radius']*20,\n",
    "                color=color.yellow,\n",
    "                label=label(pos=vector(0,0,0), text=\"Sun\")\n",
    "            )\n",
    "\n",
    "mercury_sphere = sphere(\n",
    "                pos=solarObjects['mercury']['pos'],\n",
    "                radius=solarObjects['mercury']['radius']*1000,\n",
    "                color=color.blue,\n",
    "                make_trail = True,\n",
    "                retain=50,\n",
    "                label=label(pos=vector(-5.343e7,1.1272e7,5.941e6), text=\"Mercury\")\n",
    "            )\n",
    "\n",
    "venus_sphere = sphere(\n",
    "                pos=solarObjects['venus']['pos'],\n",
    "                radius=solarObjects['venus']['radius']*800,\n",
    "                color=color.orange,\n",
    "                make_trail = True,\n",
    "                retain=50,\n",
    "                label=label(pos=vector(-8.869e7,6.045e7,5.947e6), text=\"Venus\")\n",
    "            )\n",
    "\n",
    "earth_sphere = sphere(\n",
    "                pos=solarObjects['earth']['pos'],\n",
    "                radius=solarObjects['earth']['radius']*800,\n",
    "                color=color.green,\n",
    "                make_trail = True,\n",
    "                retain=50,\n",
    "                label=label(pos=vector(-9.822e7,1.099e8,-4.540e3), text=\"Earth\")\n",
    "            )\n",
    "\n",
    "mars_sphere = sphere(\n",
    "                pos=solarObjects['mars']['pos'],\n",
    "                radius=solarObjects['mars']['radius']*1000,\n",
    "                color=color.red,\n",
    "                make_trail = True,\n",
    "                retain=50,\n",
    "                label=label(pos=vector(-6.922e7,-2.128e8,-2.762e6), text=\"Mars\")\n",
    "            )\n",
    "\n",
    "jupiter_sphere = sphere(\n",
    "                pos=solarObjects['jupiter']['pos'],\n",
    "                radius=solarObjects['jupiter']['radius']*1000,\n",
    "                color=color.white,\n",
    "                make_trail = True,\n",
    "                label=label(pos=vector(7.082e8,-2.338e8,-1.487e7), pixel_pos=True, text=\"Jupiter\")\n",
    "            )\n",
    "\n",
    "saturn_sphere = sphere(\n",
    "                pos=solarObjects['saturn']['pos'],\n",
    "                radius=solarObjects['saturn']['radius']*1000,\n",
    "                color=color.cyan,\n",
    "                make_trail = True,\n",
    "                label=label(pos=vector(1.058e9,-1.039e9,-2.405e7), text=\"Saturn\")\n",
    "            )\n",
    "\n",
    "uranus_sphere = sphere(\n",
    "                pos=solarObjects['uranus']['pos'],\n",
    "                radius=solarObjects['uranus']['radius']*1000,\n",
    "                color=color.magenta,\n",
    "                make_trail = True,\n",
    "                label=label(pos=vector(2.141e9,2.029e9,-2.021e7), text=\"Uranus\")\n",
    "            )\n",
    "\n",
    "neptune_sphere = sphere(\n",
    "                pos=solarObjects['neptune']['pos'],\n",
    "                radius=solarObjects['neptune']['radius']*1000,\n",
    "                color=color.purple,\n",
    "                make_trail = True,\n",
    "                label=label(pos=vector(4.435e9,-5.974e8,-8.991e7), text=\"Neptune\")\n",
    "            )\n",
    "\n",
    "rocket_sphere = helix(\n",
    "                pos=solarObjects['rocket']['pos'],\n",
    "                radius=solarObjects['rocket']['radius']*10000,\n",
    "                color=color.green,\n",
    "                make_trail = True,\n",
    "                label=label(pos=vector(-9.822e7,1.099e8,-4.540e3), text=\"Rocket\")\n",
    "            )"
   ]
  },
  {
   "cell_type": "code",
   "execution_count": 5,
   "id": "8a05d88c",
   "metadata": {},
   "outputs": [],
   "source": [
    "################### INITIAL CONDITIONS ###################\n",
    "t = 0 #[s]\n",
    "dt = 100000 #[s] \n",
    "count = 0"
   ]
  },
  {
   "cell_type": "code",
   "execution_count": 6,
   "id": "7472de2c",
   "metadata": {},
   "outputs": [],
   "source": [
    "################### FUNCTIONS ###################\n",
    "def GForce(p1,p2): #force exterted on p1 by p2\n",
    "    r = p1['pos'] - p2['pos']\n",
    "    F = -G*p1['mass']*p2['mass']*norm(r)/mag(r)**2\n",
    "    return F\n",
    "\n",
    "def UpdateValues(p1):\n",
    "    p = p1['momentum'] + p1['GForce']*dt\n",
    "    pos = p1['pos'] + p*dt/p1['mass']\n",
    "    return p, pos"
   ]
  },
  {
   "cell_type": "code",
   "execution_count": 7,
   "id": "da10a2d2",
   "metadata": {},
   "outputs": [],
   "source": [
    "################### MAIN LOOP ###################\n",
    "time_label = label(pos=vector(75, 350, 0), pixel_pos=True, text=\"Time: \" + str(count/365) + \" years\")\n",
    "while count < 56000:\n",
    "    rate(500)\n",
    "    \n",
    "    #Sum all of the forces on each solar object \n",
    "    solarObjects['mercury']['GForce'] = GForce(solarObjects['mercury'], solarObjects['sun'])\\\n",
    "                                        + GForce(solarObjects['mercury'], solarObjects['venus'])\\\n",
    "                                        + GForce(solarObjects['mercury'], solarObjects['earth'])\\\n",
    "                                        + GForce(solarObjects['mercury'], solarObjects['mars'])\\\n",
    "                                        + GForce(solarObjects['mercury'], solarObjects['jupiter'])\\\n",
    "                                        + GForce(solarObjects['mercury'], solarObjects['saturn'])\\\n",
    "                                        + GForce(solarObjects['mercury'], solarObjects['uranus'])\\\n",
    "                                        + GForce(solarObjects['mercury'], solarObjects['neptune'])\n",
    "\n",
    "    solarObjects['venus']['GForce'] = GForce(solarObjects['venus'], solarObjects['sun'])\\\n",
    "                                        + GForce(solarObjects['venus'], solarObjects['mercury'])\\\n",
    "                                        + GForce(solarObjects['venus'], solarObjects['earth'])\\\n",
    "                                        + GForce(solarObjects['venus'], solarObjects['mars'])\\\n",
    "                                        + GForce(solarObjects['venus'], solarObjects['jupiter'])\\\n",
    "                                        + GForce(solarObjects['venus'], solarObjects['saturn'])\\\n",
    "                                        + GForce(solarObjects['venus'], solarObjects['uranus'])\\\n",
    "                                        + GForce(solarObjects['venus'], solarObjects['neptune'])\n",
    "\n",
    "    solarObjects['earth']['GForce'] = GForce(solarObjects['earth'], solarObjects['sun'])\\\n",
    "                                        + GForce(solarObjects['earth'], solarObjects['mercury'])\\\n",
    "                                        + GForce(solarObjects['earth'], solarObjects['venus'])\\\n",
    "                                        + GForce(solarObjects['earth'], solarObjects['mars'])\\\n",
    "                                        + GForce(solarObjects['earth'], solarObjects['jupiter'])\\\n",
    "                                        + GForce(solarObjects['earth'], solarObjects['saturn'])\\\n",
    "                                        + GForce(solarObjects['earth'], solarObjects['uranus'])\\\n",
    "                                        + GForce(solarObjects['earth'], solarObjects['neptune'])\n",
    "    \n",
    "    solarObjects['mars']['GForce'] = GForce(solarObjects['mars'], solarObjects['sun'])\\\n",
    "                                        + GForce(solarObjects['mars'], solarObjects['mercury'])\\\n",
    "                                        + GForce(solarObjects['mars'], solarObjects['venus'])\\\n",
    "                                        + GForce(solarObjects['mars'], solarObjects['earth'])\\\n",
    "                                        + GForce(solarObjects['mars'], solarObjects['jupiter'])\\\n",
    "                                        + GForce(solarObjects['mars'], solarObjects['saturn'])\\\n",
    "                                        + GForce(solarObjects['mars'], solarObjects['uranus'])\\\n",
    "                                        + GForce(solarObjects['mars'], solarObjects['neptune'])\n",
    "    \n",
    "    solarObjects['jupiter']['GForce'] = GForce(solarObjects['jupiter'], solarObjects['sun'])\\\n",
    "                                        + GForce(solarObjects['jupiter'], solarObjects['mercury'])\\\n",
    "                                        + GForce(solarObjects['jupiter'], solarObjects['venus'])\\\n",
    "                                        + GForce(solarObjects['jupiter'], solarObjects['mars'])\\\n",
    "                                        + GForce(solarObjects['jupiter'], solarObjects['earth'])\\\n",
    "                                        + GForce(solarObjects['jupiter'], solarObjects['saturn'])\\\n",
    "                                        + GForce(solarObjects['jupiter'], solarObjects['uranus'])\\\n",
    "                                        + GForce(solarObjects['jupiter'], solarObjects['neptune'])\n",
    "    \n",
    "    solarObjects['saturn']['GForce'] = GForce(solarObjects['saturn'], solarObjects['sun'])\\\n",
    "                                        + GForce(solarObjects['saturn'], solarObjects['mercury'])\\\n",
    "                                        + GForce(solarObjects['saturn'], solarObjects['venus'])\\\n",
    "                                        + GForce(solarObjects['saturn'], solarObjects['mars'])\\\n",
    "                                        + GForce(solarObjects['saturn'], solarObjects['earth'])\\\n",
    "                                        + GForce(solarObjects['saturn'], solarObjects['jupiter'])\\\n",
    "                                        + GForce(solarObjects['saturn'], solarObjects['uranus'])\\\n",
    "                                        + GForce(solarObjects['saturn'], solarObjects['neptune'])\n",
    "    \n",
    "    solarObjects['uranus']['GForce'] = GForce(solarObjects['uranus'], solarObjects['sun'])\\\n",
    "                                        + GForce(solarObjects['uranus'], solarObjects['mercury'])\\\n",
    "                                        + GForce(solarObjects['uranus'], solarObjects['venus'])\\\n",
    "                                        + GForce(solarObjects['uranus'], solarObjects['mars'])\\\n",
    "                                        + GForce(solarObjects['uranus'], solarObjects['earth'])\\\n",
    "                                        + GForce(solarObjects['uranus'], solarObjects['jupiter'])\\\n",
    "                                        + GForce(solarObjects['uranus'], solarObjects['saturn'])\\\n",
    "                                        + GForce(solarObjects['uranus'], solarObjects['neptune'])\n",
    "    \n",
    "    solarObjects['neptune']['GForce'] = GForce(solarObjects['neptune'], solarObjects['sun'])\\\n",
    "                                        + GForce(solarObjects['neptune'], solarObjects['mercury'])\\\n",
    "                                        + GForce(solarObjects['neptune'], solarObjects['venus'])\\\n",
    "                                        + GForce(solarObjects['neptune'], solarObjects['mars'])\\\n",
    "                                        + GForce(solarObjects['neptune'], solarObjects['earth'])\\\n",
    "                                        + GForce(solarObjects['neptune'], solarObjects['jupiter'])\\\n",
    "                                        + GForce(solarObjects['neptune'], solarObjects['saturn'])\\\n",
    "                                        + GForce(solarObjects['neptune'], solarObjects['uranus'])\n",
    "\n",
    "    #update the momentum and position of each solar object\n",
    "    solarObjects['mercury']['momentum'], solarObjects['mercury']['pos'] = UpdateValues(solarObjects['mercury'])\n",
    "    solarObjects['venus']['momentum'], solarObjects['venus']['pos'] = UpdateValues(solarObjects['venus'])    \n",
    "    solarObjects['earth']['momentum'], solarObjects['earth']['pos'] = UpdateValues(solarObjects['earth'])\n",
    "    solarObjects['mars']['momentum'], solarObjects['mars']['pos'] = UpdateValues(solarObjects['mars'])\n",
    "    solarObjects['jupiter']['momentum'], solarObjects['jupiter']['pos'] = UpdateValues(solarObjects['jupiter'])\n",
    "    solarObjects['saturn']['momentum'], solarObjects['saturn']['pos'] = UpdateValues(solarObjects['saturn'])\n",
    "    solarObjects['uranus']['momentum'], solarObjects['uranus']['pos'] = UpdateValues(solarObjects['uranus'])\n",
    "    solarObjects['neptune']['momentum'], solarObjects['neptune']['pos'] = UpdateValues(solarObjects['neptune'])\n",
    "    \n",
    "    #update labels\n",
    "    mercury_sphere.label.pos = solarObjects['mercury']['pos']\n",
    "    venus_sphere.label.pos = solarObjects['venus']['pos']\n",
    "    earth_sphere.label.pos = solarObjects['earth']['pos']\n",
    "    mars_sphere.label.pos = solarObjects['mars']['pos']\n",
    "    jupiter_sphere.label.pos = solarObjects['jupiter']['pos']\n",
    "    saturn_sphere.label.pos = solarObjects['saturn']['pos']\n",
    "    uranus_sphere.label.pos = solarObjects['uranus']['pos']\n",
    "    neptune_sphere.label.pos = solarObjects['neptune']['pos']\n",
    "    \n",
    "    #append values to the orbital velocity lists\n",
    "    mercuryV.append(mag(solarObjects['mercury']['momentum']/solarObjects['mercury']['mass']))\n",
    "    venusV.append(mag(solarObjects['venus']['momentum']/solarObjects['venus']['mass']))\n",
    "    earthV.append(mag(solarObjects['earth']['momentum']/solarObjects['earth']['mass']))\n",
    "    marsV.append(mag(solarObjects['mars']['momentum']/solarObjects['mars']['mass']))\n",
    "    jupiterV.append(mag(solarObjects['jupiter']['momentum']/solarObjects['jupiter']['mass']))\n",
    "    saturnV.append(mag(solarObjects['saturn']['momentum']/solarObjects['saturn']['mass']))\n",
    "    uranusV.append(mag(solarObjects['uranus']['momentum']/solarObjects['uranus']['mass']))\n",
    "    neptuneV.append(mag(solarObjects['neptune']['momentum']/solarObjects['neptune']['mass']))\n",
    "    \n",
    "    time.append(t)\n",
    "    \n",
    "    #set the visual position to that of the respective solar object\n",
    "    mercury_sphere.pos = solarObjects['mercury']['pos']\n",
    "    venus_sphere.pos = solarObjects['venus']['pos']\n",
    "    earth_sphere.pos = solarObjects['earth']['pos']\n",
    "    mars_sphere.pos = solarObjects['mars']['pos']\n",
    "    jupiter_sphere.pos = solarObjects['jupiter']['pos']\n",
    "    saturn_sphere.pos = solarObjects['saturn']['pos']\n",
    "    uranus_sphere.pos = solarObjects['uranus']['pos']\n",
    "    neptune_sphere.pos = solarObjects['neptune']['pos']\n",
    "    \n",
    "    if (count/330 >= 17.5): \n",
    "        rocket_sphere.pos = rocket_sphere.pos\n",
    "        rocket_sphere.label.pos = rocket_sphere.pos\n",
    "    else:\n",
    "        speed = solarObjects['rocket']['velocity']\n",
    "        rocket_sphere.pos += speed*dt\n",
    "        rocket_sphere.label.pos = rocket_sphere.pos\n",
    "    \n",
    "    # Change to 350 to approximate\n",
    "    time_label.text = \"Time: {:.2f} years\".format(count/330)\n",
    "    count += 1\n",
    "    t += dt"
   ]
  },
  {
   "cell_type": "code",
   "execution_count": 8,
   "id": "61143d7b",
   "metadata": {},
   "outputs": [
    {
     "data": {
      "image/png": "[encoded data removed]",
      "text/plain": [
       "<Figure size 432x288 with 1 Axes>"
      ]
     },
     "metadata": {
      "needs_background": "light"
     },
     "output_type": "display_data"
    },
    {
     "data": {
      "image/png": "[encoded data removed]",
      "text/plain": [
       "<Figure size 432x288 with 8 Axes>"
      ]
     },
     "metadata": {
      "needs_background": "light"
     },
     "output_type": "display_data"
    }
   ],
   "source": [
    "################### GRAPHING ###################\n",
    "actualOV_mercury = [47] * len(time)\n",
    "actualOV_venus = [35] * len(time)\n",
    "actualOV_earth = [28] * len(time)\n",
    "actualOV_mars = [24] * len(time)\n",
    "actualOV_jupiter = [13] * len(time)\n",
    "actualOV_saturn = [10] * len(time)\n",
    "actualOV_uranus = [7] * len(time)\n",
    "actualOV_neptune = [5] * len(time)\n",
    "\n",
    "experimentalOV_mercury = [sum(mercuryV)/len(mercuryV)] * len(time)\n",
    "experimentalOV_venus = [sum(venusV)/len(venusV)] * len(time)\n",
    "experimentalOV_earth = [sum(earthV)/len(earthV)] * len(time)\n",
    "experimentalOV_mars = [sum(marsV)/len(marsV)] * len(time)\n",
    "experimentalOV_jupiter = [sum(jupiterV)/len(jupiterV)] * len(time)\n",
    "experimentalOV_saturn = [sum(saturnV)/len(saturnV)] * len(time)\n",
    "experimentalOV_uranus = [sum(uranusV)/len(uranusV)] * len(time)\n",
    "experimentalOV_neptune = [sum(neptuneV)/len(neptuneV)] * len(time)\n",
    "    \n",
    "#FIRST GRAPH    \n",
    "pyplot.plot(time, mercuryV)\n",
    "pyplot.plot(time, venusV)\n",
    "pyplot.plot(time, earthV)\n",
    "pyplot.plot(time, marsV)\n",
    "pyplot.plot(time, jupiterV)\n",
    "pyplot.plot(time, saturnV)\n",
    "pyplot.plot(time, uranusV)\n",
    "pyplot.plot(time, neptuneV)\n",
    "pyplot.plot(time, actualOV_mercury)\n",
    "pyplot.plot(time, actualOV_venus)\n",
    "pyplot.plot(time, actualOV_earth)\n",
    "pyplot.plot(time, actualOV_mars)\n",
    "pyplot.plot(time, actualOV_jupiter)\n",
    "pyplot.plot(time, actualOV_saturn)\n",
    "pyplot.plot(time, actualOV_uranus)\n",
    "pyplot.plot(time, actualOV_neptune)\n",
    "pyplot.xlabel('Time [s]')\n",
    "pyplot.ylabel('Velocity Magnitude [km/s]')\n",
    "pyplot.legend(['Mercury', 'Venus', 'Earth', 'Mars', 'Jupiter', 'Saturn', 'Uranus', 'Neptune'])\n",
    "\n",
    "#SECOND GRAPH (i.e. SUBPLOT)\n",
    "fig, axs = pyplot.subplots(4, 2)\n",
    "axs[0, 0].plot(time, actualOV_mercury)\n",
    "axs[0, 0].plot(time, experimentalOV_mercury)\n",
    "axs[0, 0].set_title('Mercury Mean Orbital Velocity')\n",
    "axs[0, 0].legend(['Actual', 'Experimental'])\n",
    "axs[0, 1].plot(time, actualOV_venus)\n",
    "axs[0, 1].plot(time, experimentalOV_venus)\n",
    "axs[0, 1].set_title('Venus Mean Orbital Velocity')\n",
    "axs[0, 1].legend(['Actual', 'Experimental'])\n",
    "axs[1, 0].plot(time, actualOV_earth)\n",
    "axs[1, 0].plot(time, experimentalOV_earth)\n",
    "axs[1, 0].set_title('Earth Mean Orbital Velocity')\n",
    "axs[1, 0].legend(['Actual', 'Experimental'])\n",
    "axs[1, 1].plot(time, actualOV_mars)\n",
    "axs[1, 1].plot(time, experimentalOV_mars)\n",
    "axs[1, 1].set_title('Mars Mean Orbital Velocity')\n",
    "axs[1, 1].legend(['Actual', 'Experimental'])\n",
    "axs[2, 0].plot(time, actualOV_jupiter)\n",
    "axs[2, 0].plot(time, experimentalOV_jupiter)\n",
    "axs[2, 0].set_title('Jupiter Mean Orbital Velocity')\n",
    "axs[2, 0].legend(['Actual', 'Experimental'])\n",
    "axs[2, 1].plot(time, actualOV_saturn)\n",
    "axs[2, 1].plot(time, experimentalOV_saturn)\n",
    "axs[2, 1].set_title('Saturn Mean Orbital Velocity')\n",
    "axs[2, 1].legend(['Actual', 'Experimental'])\n",
    "axs[3, 0].plot(time, actualOV_uranus)\n",
    "axs[3, 0].plot(time, experimentalOV_uranus)\n",
    "axs[3, 0].set_title('Uranus Mean Orbital Velocity')\n",
    "axs[3, 0].legend(['Actual', 'Experimental'])\n",
    "axs[3, 1].plot(time, actualOV_neptune)\n",
    "axs[3, 1].plot(time, experimentalOV_neptune)\n",
    "axs[3, 1].set_title('Neptune Mean Orbital Velocity')\n",
    "axs[3, 1].legend(['Actual', 'Experimental'])\n",
    "\n",
    "for ax in axs.flat:\n",
    "    ax.set(xlabel='Time [s]', ylabel='Velocity [km/s]')\n",
    "\n",
    "#HIDE X LABELS AND TICK LABELS FOR TOP PLOTS ANDY TICKS FOR RIGHT PLOTS\n",
    "for ax in axs.flat:\n",
    "    ax.label_outer()"
   ]
  },
  {
   "cell_type": "markdown",
   "id": "d43f2f26",
   "metadata": {},
   "source": [
    "<h2>Validation/Results</h2>\n",
    "<p>The methods used for validation were visual validation and graphical validation. Visual in the case of simply looking at the simulation and making sure that the orbits looked correct and that the velocity increased and decreased when it should. Graphical in the terms of the multitude of charts that were used at the bottom of the simulation. The first chart models the Velocity Magnitude [km/s] vs time [s] of each planet. It is clear to see the periodic, sinusoidal velocity that you would expect when an object orbits with an eliptical pattern, increaseing in velocity when it gets closer to the sun and decreasing when it moves away. This plot also compares the actual orbtial velocity according to NASA of each planet and places it on the graph in realtion to the orbital velocies of time. The second chart also shows the actual orbital veloctiy vs the experimental orbital velocity.</p>\n",
    "<p>When testing the simulation with different values of dt, you can see a clear difference in the overall speed of the program, however once you make the dt value too big, you will begin to see \"skips\" in the orbits of the planets. This is due to the time step being larger than expected for the next value of the orbital position, causing a visable jump between two far apart locations. Making the program look less like a spherical orbit but more of a polygonal orbit, which is just not right. </p>"
   ]
  }
 ],
 "metadata": {
  "kernelspec": {
   "display_name": "Python 3 (ipykernel)",
   "language": "python",
   "name": "python3"
  },
  "language_info": {
   "codemirror_mode": {
    "name": "ipython",
    "version": 3
   },
   "file_extension": ".py",
   "mimetype": "text/x-python",
   "name": "python",
   "nbconvert_exporter": "python",
   "pygments_lexer": "ipython3",
   "version": "3.7.11"
  }
 },
 "nbformat": 4,
 "nbformat_minor": 5
}
