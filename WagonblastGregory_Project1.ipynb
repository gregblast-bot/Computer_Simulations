{
 "cells": [
  {
   "cell_type": "markdown",
   "id": "004e455b",
   "metadata": {},
   "source": [
    "<h1><font color=\"black\">Project 1</font></h1>"
   ]
  },
  {
   "cell_type": "markdown",
   "id": "8e9ce337",
   "metadata": {},
   "source": [
    "<h4><font color=\"red\">Note: All units are in base form of metric units. (e.g. meters, grams, seconds) Except for the falling ball with air resistance.</font></h4>"
   ]
  },
  {
   "cell_type": "markdown",
   "id": "59c683f3",
   "metadata": {},
   "source": [
    "<h2><font color=\"black\">1D Vertical Motion</font></h2>"
   ]
  },
  {
   "cell_type": "markdown",
   "id": "f2fc270e",
   "metadata": {},
   "source": [
    "<h3><font color=\"black\">Ball Falling Due to Earth's Gravitational Force</font></h3>"
   ]
  },
  {
   "cell_type": "markdown",
   "id": "20dcf303",
   "metadata": {},
   "source": [
    "<h4><font color=\"black\">Perfectly Inelastic Collision</font></h4>"
   ]
  },
  {
   "cell_type": "code",
   "execution_count": 145,
   "id": "25c6631a",
   "metadata": {
    "scrolled": true
   },
   "outputs": [],
   "source": [
    "from vpython import* \n",
    "import numpy as np\n",
    "import matplotlib.pyplot as plt"
   ]
  },
  {
   "cell_type": "code",
   "execution_count": 146,
   "id": "c767ebe1",
   "metadata": {},
   "outputs": [
    {
     "data": {
      "text/html": [
       "<div id=\"glowscript\" class=\"glowscript\"></div>"
      ],
      "text/plain": [
       "<IPython.core.display.HTML object>"
      ]
     },
     "metadata": {},
     "output_type": "display_data"
    },
    {
     "data": {
      "application/javascript": [
       "if (typeof Jupyter !== \"undefined\") { window.__context = { glowscript_container: $(\"#glowscript\").removeAttr(\"id\")};}else{ element.textContent = ' ';}"
      ],
      "text/plain": [
       "<IPython.core.display.Javascript object>"
      ]
     },
     "metadata": {},
     "output_type": "display_data"
    }
   ],
   "source": [
    "scene = canvas() "
   ]
  },
  {
   "cell_type": "code",
   "execution_count": 147,
   "id": "b07a60d6",
   "metadata": {},
   "outputs": [
    {
     "data": {
      "image/png": "[encoded data removed]",
      "text/plain": [
       "<Figure size 432x288 with 1 Axes>"
      ]
     },
     "metadata": {
      "needs_background": "light"
     },
     "output_type": "display_data"
    }
   ],
   "source": [
    "# Initialize all objects and variables\n",
    "ball = sphere(pos=vector(0,10,0), radius=0.5, color=color.magenta)\n",
    "wallD = box(pos=vector(0,0,0), size=vector(12,0.2,12), color=color.green)\n",
    "ball.velocity = vector(0,0,0)\n",
    "scene.autoscale = False\n",
    "#t = np.linspace(0, 5, num=100) # Set time as 'continous' parameter.\n",
    "t = 0\n",
    "deltat = 0.005\n",
    "g = -9.81\n",
    "vy1 = []\n",
    "py1 = []\n",
    "\n",
    "while t < 5:\n",
    "    rate(100)\n",
    "    # Updating velocity and position based off equations of motion\n",
    "    ball.velocity.y = ball.velocity.y + g * deltat \n",
    "    ball.pos.y = ball.pos.y + ball.velocity.y * deltat\n",
    "    t = t + deltat\n",
    "    # Get velocity at every point in time\n",
    "    y = ball.velocity.y\n",
    "    vy1.append(abs(y))\n",
    "    # Get positions at every point in time\n",
    "    p = ball.pos.y\n",
    "    py1.append(abs(p)) \n",
    "    \n",
    "    # Accounting for the collision then break\n",
    "    if ball.pos.y < wallD.pos.y + 0.3:\n",
    "        # Updating velocity and position based off equations of motion\n",
    "        ball.velocity.y = 0\n",
    "        ball.pos.y = ball.pos.y + ball.velocity.y * deltat\n",
    "        # Get velocity at every point in time\n",
    "        y = ball.velocity.y \n",
    "        vy1.append(abs(y)) \n",
    "        # Get positions at every point in time\n",
    "        p = ball.pos.y\n",
    "        py1.append(abs(p))\n",
    "        break\n",
    "\n",
    "# Plot every point of velocity and position, velocity increases as position decreases\n",
    "plt.plot(vy1,py1)\n",
    "plt.xlabel(\"Velocity\")\n",
    "plt.ylabel(\"Position\")\n",
    "plt.title(\"Velocity VS. Position\")\n",
    "# Show data on one graphic\n",
    "plt.show()"
   ]
  },
  {
   "cell_type": "code",
   "execution_count": 148,
   "id": "0e3b3935",
   "metadata": {},
   "outputs": [
    {
     "data": {
      "text/html": [
       "<div id=\"glowscript\" class=\"glowscript\"></div>"
      ],
      "text/plain": [
       "<IPython.core.display.HTML object>"
      ]
     },
     "metadata": {},
     "output_type": "display_data"
    },
    {
     "data": {
      "application/javascript": [
       "if (typeof Jupyter !== \"undefined\") { window.__context = { glowscript_container: $(\"#glowscript\").removeAttr(\"id\")};}else{ element.textContent = ' ';}"
      ],
      "text/plain": [
       "<IPython.core.display.Javascript object>"
      ]
     },
     "metadata": {},
     "output_type": "display_data"
    }
   ],
   "source": [
    "scene = canvas() "
   ]
  },
  {
   "cell_type": "code",
   "execution_count": 149,
   "id": "828c7df4",
   "metadata": {},
   "outputs": [
    {
     "data": {
      "image/png": "[encoded data removed]",
      "text/plain": [
       "<Figure size 432x288 with 1 Axes>"
      ]
     },
     "metadata": {
      "needs_background": "light"
     },
     "output_type": "display_data"
    }
   ],
   "source": [
    "# Initialize all objects and variables\n",
    "ball = sphere(pos=vector(0,10,0), radius=0.5, mass = 2, color=color.magenta)\n",
    "wallD = box(pos=vector(0,0,0), size=vector(12,0.2,12), color=color.green)\n",
    "ball.velocity = vector(0,-5,0)\n",
    "scene.autoscale = False\n",
    "# Drag coefficient, projectile radius (m), area (m^2) and mass (kg)\n",
    "c = 0.47\n",
    "A = pi * ball.radius**2\n",
    "# Air density (kg*m^3), acceleration due to gravity (m*s^2)\n",
    "rho_air = 1.28\n",
    "# Define constant for convenience\n",
    "k = 0.5 * c * rho_air * A\n",
    "Fg = ball.mass*g\n",
    "t = 0\n",
    "deltat = 0.005\n",
    "g = -9.81\n",
    "# Initialize arrays\n",
    "vy2 = []\n",
    "py2 = []\n",
    "\n",
    "while t < 5:\n",
    "    rate(100)\n",
    "    # Adjusting acceleration based on drag\n",
    "    Fd = k*(ball.velocity.y**2)\n",
    "    a = Fd/ball.mass\n",
    "    # Updating velocity and position based off equations of motion\n",
    "    ball.velocity.y = ball.velocity.y - a * deltat \n",
    "    ball.pos.y = ball.pos.y + ball.velocity.y * deltat \n",
    "    t = t + deltat\n",
    "    \n",
    "    y = ball.velocity.y # get positions at every point in time\n",
    "    vy2.append(abs(y)) \n",
    "    p = ball.pos.y # get positions at every point in time\n",
    "    py2.append(abs(p)) \n",
    "    \n",
    "    if ball.pos.y < wallD.pos.y + 0.3:\n",
    "        # Updating velocity and position based off equations of motion\n",
    "        ball.velocity.y = 0\n",
    "        ball.pos.y = ball.pos.y + ball.velocity.y * deltat\n",
    "        # Get velocity at every point in time\n",
    "        y = ball.velocity.y \n",
    "        vy2.append(abs(y)) \n",
    "        # Get positions at every point in time\n",
    "        p = ball.pos.y\n",
    "        py2.append(abs(p))\n",
    "        break\n",
    "        \n",
    "# Plot every point of velocity and position, velocity increases as position decreases\n",
    "plt.plot(vy2,py2)\n",
    "plt.xlabel(\"Velocity\")\n",
    "plt.ylabel(\"Position\")\n",
    "plt.title(\"Velocity VS. Position\")\n",
    "# Show data on one graphic\n",
    "plt.show()"
   ]
  },
  {
   "cell_type": "markdown",
   "id": "63addf81",
   "metadata": {},
   "source": [
    "<h3><font color=\"black\">Ball Bouncing on Ground</font></h3>"
   ]
  },
  {
   "cell_type": "markdown",
   "id": "a7cc8c2b",
   "metadata": {},
   "source": [
    "<h4><font color=\"black\">Elastic Collision</font></h4>"
   ]
  },
  {
   "cell_type": "code",
   "execution_count": 150,
   "id": "207c6cff",
   "metadata": {},
   "outputs": [
    {
     "data": {
      "text/html": [
       "<div id=\"glowscript\" class=\"glowscript\"></div>"
      ],
      "text/plain": [
       "<IPython.core.display.HTML object>"
      ]
     },
     "metadata": {},
     "output_type": "display_data"
    },
    {
     "data": {
      "application/javascript": [
       "if (typeof Jupyter !== \"undefined\") { window.__context = { glowscript_container: $(\"#glowscript\").removeAttr(\"id\")};}else{ element.textContent = ' ';}"
      ],
      "text/plain": [
       "<IPython.core.display.Javascript object>"
      ]
     },
     "metadata": {},
     "output_type": "display_data"
    }
   ],
   "source": [
    "scene = canvas() "
   ]
  },
  {
   "cell_type": "code",
   "execution_count": 151,
   "id": "ac32a0bf",
   "metadata": {},
   "outputs": [
    {
     "name": "stdout",
     "output_type": "stream",
     "text": [
      "Velocity of ball before contact =  -13.78304999999994\n",
      "Velocity of ball after contact =  13.78304999999994\n",
      "Velocity of ball before contact =  -13.733999999999943\n",
      "Velocity of ball after contact =  13.733999999999943\n",
      "Velocity of ball before contact =  -13.684949999999942\n",
      "Velocity of ball after contact =  13.684949999999942\n",
      "Velocity of ball before contact =  -13.635899999999944\n",
      "Velocity of ball after contact =  13.635899999999944\n"
     ]
    }
   ],
   "source": [
    "# Initialize all objects and variables\n",
    "ball = sphere(pos=vector(0,10,0), radius=0.5, color=color.magenta, make_trail=True, retain=25)\n",
    "wallD = box(pos=vector(0,0,0), size=vector(12,0.2,12), color=color.green)\n",
    "ball.velocity = vector(0,0,0)\n",
    "vscale = 0.25\n",
    "varr = arrow(pos=ball.pos, axis=vscale*ball.velocity, color=color.cyan)\n",
    "scene.autoscale = False\n",
    "t = 0 \n",
    "deltat = 0.005\n",
    "g = -9.81\n",
    "    \n",
    "while t < 10:\n",
    "    rate(100)\n",
    "    # Updating velocity and position based off equations of motion\n",
    "    ball.velocity.y = ball.velocity.y + g * deltat \n",
    "    ball.pos.y = ball.pos.y + ball.velocity.y * deltat\n",
    "    t = t + deltat\n",
    "    \n",
    "    # Print the velocity to console before and after collision to show no loss of energy\n",
    "    if ball.pos.y < wallD.pos.y + 0.3:\n",
    "        print(\"Velocity of ball before contact = \", ball.velocity.y)\n",
    "        ball.velocity.y = -ball.velocity.y\n",
    "        print(\"Velocity of ball after contact = \", ball.velocity.y)\n",
    "        \n",
    "    varr.pos = ball.pos\n",
    "    varr.axis = vscale*ball.velocity"
   ]
  },
  {
   "cell_type": "markdown",
   "id": "0f7c3956",
   "metadata": {},
   "source": [
    "<h4><font color=\"black\">Inelastic Collision</font></h4>"
   ]
  },
  {
   "cell_type": "code",
   "execution_count": 152,
   "id": "e588b4da",
   "metadata": {},
   "outputs": [
    {
     "data": {
      "text/html": [
       "<div id=\"glowscript\" class=\"glowscript\"></div>"
      ],
      "text/plain": [
       "<IPython.core.display.HTML object>"
      ]
     },
     "metadata": {},
     "output_type": "display_data"
    },
    {
     "data": {
      "application/javascript": [
       "if (typeof Jupyter !== \"undefined\") { window.__context = { glowscript_container: $(\"#glowscript\").removeAttr(\"id\")};}else{ element.textContent = ' ';}"
      ],
      "text/plain": [
       "<IPython.core.display.Javascript object>"
      ]
     },
     "metadata": {},
     "output_type": "display_data"
    }
   ],
   "source": [
    "scene = canvas()"
   ]
  },
  {
   "cell_type": "code",
   "execution_count": 153,
   "id": "691e41ad",
   "metadata": {},
   "outputs": [
    {
     "name": "stdout",
     "output_type": "stream",
     "text": [
      "Velocity of ball before contact =  -13.78304999999994\n",
      "Velocity of ball after contact =  12.404744999999947\n",
      "Velocity of ball before contact =  -12.36550499999997\n",
      "Velocity of ball after contact =  11.128954499999974\n",
      "Velocity of ball before contact =  -11.090695499999976\n",
      "Velocity of ball after contact =  9.981625949999978\n",
      "Velocity of ball before contact =  -9.932674050000001\n",
      "Velocity of ball after contact =  8.939406645000002\n",
      "Velocity of ball before contact =  -8.865743355000005\n",
      "Velocity of ball after contact =  7.979169019500004\n",
      "Velocity of ball before contact =  -7.913030980500025\n",
      "Velocity of ball after contact =  7.121727882450023\n",
      "Velocity of ball before contact =  -7.102772117549997\n",
      "Velocity of ball after contact =  6.392494905794997\n",
      "Velocity of ball before contact =  -6.311455094205015\n",
      "Velocity of ball after contact =  5.6803095847845135\n",
      "Velocity of ball before contact =  -5.6502404152154915\n",
      "Velocity of ball after contact =  5.085216373693942\n",
      "Velocity of ball before contact =  -5.019083626306056\n",
      "Velocity of ball after contact =  4.51717526367545\n",
      "Velocity of ball before contact =  -4.458974736324542\n",
      "Velocity of ball after contact =  4.0130772626920885\n",
      "Velocity of ball before contact =  -3.982072737307899\n",
      "Velocity of ball after contact =  3.583865463577109\n",
      "Velocity of ball before contact =  -3.5283845364228816\n",
      "Velocity of ball after contact =  3.1755460827805937\n",
      "Velocity of ball before contact =  -3.1028539172194\n",
      "Velocity of ball after contact =  2.79256852549746\n",
      "Velocity of ball before contact =  -2.7500814745025366\n",
      "Velocity of ball after contact =  2.475073327052283\n",
      "Velocity of ball before contact =  -2.429926672947716\n",
      "Velocity of ball after contact =  2.1869340056529443\n",
      "Velocity of ball before contact =  -2.129465994347057\n",
      "Velocity of ball after contact =  1.9165193949123511\n",
      "Velocity of ball before contact =  -1.860330605087651\n",
      "Velocity of ball after contact =  1.674297544578886\n",
      "Velocity of ball before contact =  -1.6611024554211158\n",
      "Velocity of ball after contact =  1.4949922098790043\n",
      "Velocity of ball before contact =  1.4459422098790042\n",
      "Velocity of ball after contact =  -1.301347988891104\n",
      "Velocity of ball before contact =  -1.350397988891104\n",
      "Velocity of ball after contact =  1.2153581900019936\n",
      "Velocity of ball before contact =  1.1663081900019936\n",
      "Velocity of ball after contact =  -1.0496773710017944\n",
      "Velocity of ball before contact =  -1.0987273710017944\n",
      "Velocity of ball after contact =  0.988854633901615\n",
      "Velocity of ball before contact =  0.939804633901615\n",
      "Velocity of ball after contact =  -0.8458241705114534\n",
      "Velocity of ball before contact =  -0.8948741705114535\n",
      "Velocity of ball after contact =  0.8053867534603081\n",
      "Velocity of ball before contact =  0.756336753460308\n",
      "Velocity of ball after contact =  -0.6807030781142772\n",
      "Velocity of ball before contact =  -0.7297530781142773\n",
      "Velocity of ball after contact =  0.6567777703028496\n",
      "Velocity of ball before contact =  0.6077277703028495\n",
      "Velocity of ball after contact =  -0.5469549932725646\n",
      "Velocity of ball before contact =  -0.5960049932725646\n",
      "Velocity of ball after contact =  0.5364044939453082\n",
      "Velocity of ball before contact =  0.4873544939453082\n",
      "Velocity of ball after contact =  -0.4386190445507774\n",
      "Velocity of ball before contact =  -0.48766904455077736\n",
      "Velocity of ball after contact =  0.4389021400956996\n",
      "Velocity of ball before contact =  0.38985214009569963\n",
      "Velocity of ball after contact =  -0.3508669260861297\n",
      "Velocity of ball before contact =  -0.39991692608612966\n",
      "Velocity of ball after contact =  0.3599252334775167\n",
      "Velocity of ball before contact =  0.3108752334775167\n",
      "Velocity of ball after contact =  -0.27978771012976505\n",
      "Velocity of ball before contact =  -0.32883771012976504\n",
      "Velocity of ball after contact =  0.2959539391167885\n",
      "Velocity of ball before contact =  0.2469039391167885\n",
      "Velocity of ball after contact =  -0.22221354520510966\n",
      "Velocity of ball before contact =  -0.27126354520510965\n",
      "Velocity of ball after contact =  0.2441371906845987\n",
      "Velocity of ball before contact =  0.19508719068459868\n",
      "Velocity of ball after contact =  -0.17557847161613882\n",
      "Velocity of ball before contact =  -0.22462847161613883\n",
      "Velocity of ball after contact =  0.20216562445452496\n",
      "Velocity of ball before contact =  0.15311562445452495\n",
      "Velocity of ball after contact =  -0.13780406200907247\n",
      "Velocity of ball before contact =  -0.18685406200907248\n",
      "Velocity of ball after contact =  0.16816865580816523\n",
      "Velocity of ball before contact =  0.11911865580816522\n",
      "Velocity of ball after contact =  -0.1072067902273487\n",
      "Velocity of ball before contact =  -0.1562567902273487\n",
      "Velocity of ball after contact =  0.14063111120461383\n",
      "Velocity of ball before contact =  0.09158111120461382\n",
      "Velocity of ball after contact =  -0.08242300008415245\n",
      "Velocity of ball before contact =  -0.13147300008415244\n",
      "Velocity of ball after contact =  0.1183257000757372\n",
      "Velocity of ball before contact =  0.06927570007573719\n",
      "Velocity of ball after contact =  -0.06234813006816347\n",
      "Velocity of ball before contact =  -0.11139813006816347\n",
      "Velocity of ball after contact =  0.10025831706134712\n",
      "Velocity of ball before contact =  0.05120831706134712\n",
      "Velocity of ball after contact =  -0.046087485355212406\n",
      "Velocity of ball before contact =  -0.09513748535521241\n",
      "Velocity of ball after contact =  0.08562373681969117\n",
      "Velocity of ball before contact =  0.036573736819691165\n",
      "Velocity of ball after contact =  -0.032916363137722046\n",
      "Velocity of ball before contact =  -0.08196636313772204\n",
      "Velocity of ball after contact =  0.07376972682394985\n",
      "Velocity of ball before contact =  0.024719726823949843\n",
      "Velocity of ball after contact =  -0.02224775414155486\n",
      "Velocity of ball before contact =  -0.07129775414155487\n",
      "Velocity of ball after contact =  0.06416797872739939\n",
      "Velocity of ball before contact =  0.015117978727399388\n",
      "Velocity of ball after contact =  -0.01360618085465945\n",
      "Velocity of ball before contact =  -0.06265618085465946\n",
      "Velocity of ball after contact =  0.05639056276919351\n",
      "Velocity of ball before contact =  0.007340562769193509\n",
      "Velocity of ball after contact =  -0.006606506492274159\n",
      "Velocity of ball before contact =  -0.05565650649227416\n",
      "Velocity of ball after contact =  0.05009085584304675\n",
      "Velocity of ball before contact =  0.0010408558430467438\n",
      "Velocity of ball after contact =  -0.0009367702587420694\n",
      "Velocity of ball before contact =  -0.04998677025874207\n",
      "Velocity of ball after contact =  0.044988093232867864\n",
      "Velocity of ball before contact =  -0.00406190676713214\n",
      "Velocity of ball after contact =  0.0036557160904189256\n",
      "Velocity of ball before contact =  -0.04539428390958108\n",
      "Velocity of ball after contact =  0.04085485551862297\n",
      "Velocity of ball before contact =  -0.00819514448137703\n",
      "Velocity of ball after contact =  0.007375630033239327\n",
      "Velocity of ball before contact =  -0.041674369966760674\n",
      "Velocity of ball after contact =  0.03750693297008461\n",
      "Velocity of ball before contact =  -0.011543067029915394\n",
      "Velocity of ball after contact =  0.010388760326923855\n",
      "Velocity of ball before contact =  -0.03866123967307615\n",
      "Velocity of ball after contact =  0.034795115705768535\n",
      "Velocity of ball before contact =  -0.014254884294231468\n",
      "Velocity of ball after contact =  0.01282939586480832\n",
      "Velocity of ball before contact =  -0.03622060413519168\n",
      "Velocity of ball after contact =  0.032598543721672514\n",
      "Velocity of ball before contact =  -0.01645145627832749\n",
      "Velocity of ball after contact =  0.014806310650494741\n",
      "Velocity of ball before contact =  -0.034243689349505266\n",
      "Velocity of ball after contact =  0.03081932041455474\n",
      "Velocity of ball before contact =  -0.018230679585445265\n",
      "Velocity of ball after contact =  0.01640761162690074\n",
      "Velocity of ball before contact =  -0.03264238837309927\n",
      "Velocity of ball after contact =  0.029378149535789343\n",
      "Velocity of ball before contact =  -0.01967185046421066\n",
      "Velocity of ball after contact =  0.017704665417789596\n",
      "Velocity of ball before contact =  -0.03134533458221041\n",
      "Velocity of ball after contact =  0.028210801123989368\n",
      "Velocity of ball before contact =  -0.020839198876010635\n",
      "Velocity of ball after contact =  0.018755278988409573\n",
      "Velocity of ball before contact =  -0.03029472101159043\n",
      "Velocity of ball after contact =  0.02726524891043139\n",
      "Velocity of ball before contact =  -0.021784751089568614\n",
      "Velocity of ball after contact =  0.019606275980611754\n",
      "Velocity of ball before contact =  -0.02944372401938825\n",
      "Velocity of ball after contact =  0.026499351617449426\n",
      "Velocity of ball before contact =  -0.022550648382550578\n",
      "Velocity of ball after contact =  0.02029558354429552\n",
      "Velocity of ball before contact =  -0.028754416455704482\n",
      "Velocity of ball after contact =  0.025878974810134035\n",
      "Velocity of ball before contact =  -0.023171025189865968\n",
      "Velocity of ball after contact =  0.020853922670879373\n",
      "Velocity of ball before contact =  -0.02819607732912063\n",
      "Velocity of ball after contact =  0.025376469596208567\n",
      "Velocity of ball before contact =  -0.023673530403791436\n",
      "Velocity of ball after contact =  0.021306177363412292\n",
      "Velocity of ball before contact =  -0.02774382263658771\n",
      "Velocity of ball after contact =  0.02496944037292894\n",
      "Velocity of ball before contact =  -0.024080559627071063\n",
      "Velocity of ball after contact =  0.02167250366436396\n",
      "Velocity of ball before contact =  -0.027377496335636044\n",
      "Velocity of ball after contact =  0.02463974670207244\n",
      "Velocity of ball before contact =  -0.024410253297927564\n",
      "Velocity of ball after contact =  0.02196922796813481\n",
      "Velocity of ball before contact =  -0.027080772031865194\n",
      "Velocity of ball after contact =  0.024372694828678675\n",
      "Velocity of ball before contact =  -0.02467730517132133\n",
      "Velocity of ball after contact =  0.022209574654189195\n",
      "Velocity of ball before contact =  -0.026840425345810808\n",
      "Velocity of ball after contact =  0.024156382811229726\n",
      "Velocity of ball before contact =  -0.024893617188770277\n",
      "Velocity of ball after contact =  0.02240425546989325\n",
      "Velocity of ball before contact =  -0.026645744530106753\n",
      "Velocity of ball after contact =  0.02398117007709608\n",
      "Velocity of ball before contact =  -0.025068829922903924\n",
      "Velocity of ball after contact =  0.022561946930613534\n",
      "Velocity of ball before contact =  -0.02648805306938647\n",
      "Velocity of ball after contact =  0.023839247762447825\n",
      "Velocity of ball before contact =  -0.02521075223755218\n",
      "Velocity of ball after contact =  0.022689677013796962\n"
     ]
    },
    {
     "name": "stdout",
     "output_type": "stream",
     "text": [
      "Velocity of ball before contact =  -0.02636032298620304\n",
      "Velocity of ball after contact =  0.02372429068758274\n",
      "Velocity of ball before contact =  -0.025325709312417264\n",
      "Velocity of ball after contact =  0.022793138381175537\n",
      "Velocity of ball before contact =  -0.026256861618824467\n",
      "Velocity of ball after contact =  0.02363117545694202\n",
      "Velocity of ball before contact =  -0.025418824543057984\n",
      "Velocity of ball after contact =  0.022876942088752187\n",
      "Velocity of ball before contact =  -0.026173057911247816\n",
      "Velocity of ball after contact =  0.023555752120123036\n",
      "Velocity of ball before contact =  -0.025494247879876968\n",
      "Velocity of ball after contact =  0.02294482309188927\n",
      "Velocity of ball before contact =  -0.026105176908110733\n",
      "Velocity of ball after contact =  0.023494659217299662\n",
      "Velocity of ball before contact =  -0.02555534078270034\n",
      "Velocity of ball after contact =  0.022999806704430307\n",
      "Velocity of ball before contact =  -0.026050193295569696\n",
      "Velocity of ball after contact =  0.023445173966012728\n",
      "Velocity of ball before contact =  -0.025604826033987275\n",
      "Velocity of ball after contact =  0.02304434343058855\n",
      "Velocity of ball before contact =  -0.026005656569411454\n",
      "Velocity of ball after contact =  0.023405090912470308\n",
      "Velocity of ball before contact =  -0.025644909087529696\n",
      "Velocity of ball after contact =  0.023080418178776728\n",
      "Velocity of ball before contact =  -0.025969581821223275\n",
      "Velocity of ball after contact =  0.023372623639100948\n",
      "Velocity of ball before contact =  -0.025677376360899055\n",
      "Velocity of ball after contact =  0.023109638724809152\n",
      "Velocity of ball before contact =  -0.02594036127519085\n",
      "Velocity of ball after contact =  0.02334632514767177\n",
      "Velocity of ball before contact =  -0.025703674852328235\n",
      "Velocity of ball after contact =  0.023133307367095412\n",
      "Velocity of ball before contact =  -0.02591669263290459\n",
      "Velocity of ball after contact =  0.02332502336961413\n",
      "Velocity of ball before contact =  -0.025724976630385872\n",
      "Velocity of ball after contact =  0.023152478967347286\n"
     ]
    }
   ],
   "source": [
    "# Initializing objects\n",
    "# Assume the mass of the ball is similiar to a tennis ball (approximately 60g)\n",
    "ball = sphere(pos=vector(0,10,0), radius=0.5, mass = 60, color=color.magenta, make_trail=True, retain=50)\n",
    "# Assuming we lose %10 of the ball's energy on every collision, the mass of the ground will be approximately 500g\n",
    "# Let's assume that a slab of concrete occupying 0.003696 m^2 weighs around this much (this is the area of a tennis ball)\n",
    "wallD = box(pos=vector(0,0,0), size=vector(12,0.2,12), mass = 500, color=color.green)\n",
    "ball.velocity = vector(0,0,0)\n",
    "vscale = 0.25\n",
    "varr = arrow(pos=ball.pos, axis=vscale*ball.velocity, color=color.cyan)\n",
    "scene.autoscale = False\n",
    "t = 0 \n",
    "deltat = 0.005\n",
    "# Gravity is initialized\n",
    "g = -9.81\n",
    "    \n",
    "while t < 100:\n",
    "    rate(100)\n",
    "    # Updating velocity and position based off equations of motion\n",
    "    ball.velocity.y = ball.velocity.y + g * deltat \n",
    "    ball.pos.y = ball.pos.y + ball.velocity.y * deltat \n",
    "    KE = 0.5*ball.mass*(ball.velocity.y**2)\n",
    "    # Approximately %10 of the ball's energy is lost per collision, we will round here to make the simulation smoother\n",
    "    Elost = round((wallD.mass/(wallD.mass+ball.mass)),1)\n",
    "    t = t + deltat\n",
    "\n",
    "    # Print the velocity to console before and after collision to show a loss of energy (due to heat, sound, etc.)\n",
    "    if ball.pos.y < wallD.pos.y + 0.3:\n",
    "        print(\"Velocity of ball before contact = \", ball.velocity.y)\n",
    "        ball.velocity.y = -Elost*ball.velocity.y\n",
    "        print(\"Velocity of ball after contact = \", ball.velocity.y)\n",
    "    \n",
    "    # Convenient number to use in order to break out of this while loop\n",
    "    if round(ball.velocity.y,4) == 0.0232:\n",
    "        break\n",
    "        \n",
    "    varr.pos = ball.pos\n",
    "    varr.axis = vscale*ball.velocity"
   ]
  },
  {
   "cell_type": "markdown",
   "id": "0d6a7723",
   "metadata": {},
   "source": [
    "<h2><font color=\"black\">2D Projectile Motion</font></h2>"
   ]
  },
  {
   "cell_type": "markdown",
   "id": "2ef5dc3f",
   "metadata": {},
   "source": [
    "<h3><font color=\"black\">Ball Shot Out of Cannon</font></h3>"
   ]
  },
  {
   "cell_type": "code",
   "execution_count": 154,
   "id": "b95136f8",
   "metadata": {
    "scrolled": true
   },
   "outputs": [
    {
     "data": {
      "text/html": [
       "<div id=\"glowscript\" class=\"glowscript\"></div>"
      ],
      "text/plain": [
       "<IPython.core.display.HTML object>"
      ]
     },
     "metadata": {},
     "output_type": "display_data"
    },
    {
     "data": {
      "application/javascript": [
       "if (typeof Jupyter !== \"undefined\") { window.__context = { glowscript_container: $(\"#glowscript\").removeAttr(\"id\")};}else{ element.textContent = ' ';}"
      ],
      "text/plain": [
       "<IPython.core.display.Javascript object>"
      ]
     },
     "metadata": {},
     "output_type": "display_data"
    }
   ],
   "source": [
    "scene = canvas() "
   ]
  },
  {
   "cell_type": "markdown",
   "id": "803ce0d4",
   "metadata": {},
   "source": [
    "<h3><font color=\"red\">This is my Blobfish</font></h3>"
   ]
  },
  {
   "cell_type": "code",
   "execution_count": 155,
   "id": "d2a1be91",
   "metadata": {},
   "outputs": [],
   "source": [
    "# The cannon is a cylinder object, the ball and cannon are poisitioned in a view favorable to the frame of reference\n",
    "cannon = cylinder(pos=vector(-62,0,0), axis=vector(7,7,0), radius=1)\n",
    "ball = sphere(pos=vector(-60,3,0), radius=0.5, color=color.magenta, make_trail=True)\n",
    "obstacle1 = sphere(pos=vector(-30,10,0), radius=5, color=color.magenta, make_trail=True)\n",
    "obstacle2 = sphere(pos=vector(40,10,0), radius=5, color=color.magenta, make_trail=True)\n",
    "obstacle3 = cylinder(pos=vector(5,-20,0), axis=vector(0,0,10), radius=10)\n",
    "obstacle4 = curve(vector(-50,-50,0), vector(5, -40, 0), vector(60,-50,0), radius=3, color=color.red)\n",
    "wallD = box(pos=vector(0,0,0), size=vector(100,0.6,100), color=color.green)\n",
    "\n",
    "# An arbitrary initial velocity is given, theta is chosen for it's symmetry\n",
    "v0 = 25\n",
    "theta = pi/4\n",
    "# The ball's velocity components are determined from the initial velocity, trigonometric functions, and theta\n",
    "ball.velocity = vector(v0*cos(theta),v0*sin(theta),0)\n",
    "vscale = 0.25\n",
    "varr = arrow(pos=ball.pos, axis=vscale*ball.velocity, color=color.cyan)\n",
    "scene.autoscale = False\n",
    "t = 0 \n",
    "deltat = 0.005\n",
    "# Gravity is initialized and count is used to break out of the while loop at a specific instance\n",
    "g = -9.81\n",
    "count = 0\n",
    "\n",
    "while t < 10:\n",
    "    rate(100)\n",
    "    # The x-component of velocity maintains a linear form while the y-component takes a parabolic form\n",
    "    ball.pos.x = ball.pos.x + ball.velocity.x * deltat\n",
    "    ball.pos.y = ball.pos.y + ball.velocity.y * deltat - (1/2)*g*(deltat**2)\n",
    "    ball.velocity.y = ball.velocity.y + g*deltat\n",
    "    t = t + deltat\n",
    "    \n",
    "    # The collision will remain elastic in this case, because this Blobfish needs a symmetric outline for it's eyes\n",
    "    if ball.pos.y < wallD.pos.y + 0.3:\n",
    "        ball.velocity.y = -ball.velocity.y\n",
    "        count += 1\n",
    "    \n",
    "    # Breaking out of this while loop when the ball and ground have their second collision\n",
    "    if count == 2:\n",
    "        break\n",
    "        \n",
    "    # Updating familiar arrow objects\n",
    "    varr.pos = ball.pos\n",
    "    varr.axis = vscale*ball.velocity"
   ]
  },
  {
   "cell_type": "markdown",
   "id": "5fef9926",
   "metadata": {},
   "source": [
    "<h2><font color=\"black\">Analysis</font></h2>"
   ]
  },
  {
   "cell_type": "markdown",
   "id": "b2b0beb3",
   "metadata": {},
   "source": [
    "<h4><font color=\"black\">The simulation works as intended. Firstly, a ball falls to to \"Earth's\" gravitaional force with and without air resistance. The plots were consistent with the simulation. Secondly, a ball bounces in an elastic and inelastic collision. The velocity before and after the collision reflected energy conservation and the lack thereof. Lastly, simulating projectile motion with the proper equations of motion yielded a parabolic trajectory as expected.</font></h4>"
   ]
  }
 ],
 "metadata": {
  "kernelspec": {
   "display_name": "Python 3 (ipykernel)",
   "language": "python",
   "name": "python3"
  },
  "language_info": {
   "codemirror_mode": {
    "name": "ipython",
    "version": 3
   },
   "file_extension": ".py",
   "mimetype": "text/x-python",
   "name": "python",
   "nbconvert_exporter": "python",
   "pygments_lexer": "ipython3",
   "version": "3.7.11"
  }
 },
 "nbformat": 4,
 "nbformat_minor": 5
}
