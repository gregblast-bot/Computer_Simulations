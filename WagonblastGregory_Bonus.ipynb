{
 "cells": [
  {
   "cell_type": "markdown",
   "id": "8a8d4a9d",
   "metadata": {},
   "source": [
    "<h1><font color=\"black\">Bonus Project</font></h1>"
   ]
  },
  {
   "cell_type": "markdown",
   "id": "a9facb7c",
   "metadata": {},
   "source": [
    "<h4><font color=\"red\">Note: All units are in base form of metric units. (e.g. meters, Kilograms, seconds)</font></h4>"
   ]
  },
  {
   "cell_type": "code",
   "execution_count": 10,
   "id": "288c82bf",
   "metadata": {},
   "outputs": [],
   "source": [
    "from vpython import* \n",
    "import numpy as np\n",
    "import timeit\n",
    "import matplotlib.pyplot as plt"
   ]
  },
  {
   "cell_type": "markdown",
   "id": "e707baf4",
   "metadata": {},
   "source": [
    "<h2><font color=\"black\">Molecular Dynamics</font></h2>"
   ]
  },
  {
   "cell_type": "code",
   "execution_count": 11,
   "id": "aca78d7e",
   "metadata": {},
   "outputs": [
    {
     "data": {
      "text/html": [
       "<div id=\"glowscript\" class=\"glowscript\"></div>"
      ],
      "text/plain": [
       "<IPython.core.display.HTML object>"
      ]
     },
     "metadata": {},
     "output_type": "display_data"
    },
    {
     "data": {
      "application/javascript": [
       "if (typeof Jupyter !== \"undefined\") { window.__context = { glowscript_container: $(\"#glowscript\").removeAttr(\"id\")};}else{ element.textContent = ' ';}"
      ],
      "text/plain": [
       "<IPython.core.display.Javascript object>"
      ]
     },
     "metadata": {},
     "output_type": "display_data"
    }
   ],
   "source": [
    "scene = canvas()"
   ]
  },
  {
   "cell_type": "code",
   "execution_count": 12,
   "id": "e44a4a3f",
   "metadata": {},
   "outputs": [
    {
     "data": {
      "image/png": "[encoded data removed]",
      "text/plain": [
       "<Figure size 432x288 with 1 Axes>"
      ]
     },
     "metadata": {
      "needs_background": "light"
     },
     "output_type": "display_data"
    }
   ],
   "source": [
    "# Initializing N (the dimensions of the NxNxN \"crystal lattice\")\n",
    "N = 2\n",
    "# Initializing mass and spring constant\n",
    "mass = 1\n",
    "k = 1\n",
    "# Diameter is initialized to 2 and the spacing is double that, this will allow room for \"springs\"\n",
    "diameter = 2\n",
    "spacing = 20\n",
    "# A dictionary is used to hold our water objects, create a box\n",
    "water = {}\n",
    "wallR = box(pos=vector(45,0,0), size=vector(0.2,90,90), color=color.white)\n",
    "wallL = box(pos=vector(-45,0,0), size=vector(0.2,90,90), color=color.white)\n",
    "wallU = box(pos=vector(0,45,0), size=vector(90,0.2,90), color=color.white)\n",
    "wallD = box(pos=vector(0,-45,0), size=vector(90,0.2,90), color=color.white)\n",
    "wallB = box(pos=vector(0,0,-45), size=vector(90,90,0.2), color=color.white)\n",
    "# Initialize time and time step\n",
    "t = 0\n",
    "dt = 0.1\n",
    "# Initialize energy variables\n",
    "PE = 0\n",
    "KE = 0\n",
    "TE = 0\n",
    "# Initialize arrays\n",
    "time = []\n",
    "kinetic = []\n",
    "potential = []\n",
    "total = []\n",
    "# Center on the middle sphere in the lattice with a scaled adjustment\n",
    "scene.center = 0.5*(N-1)*vector(1,1,1)\n",
    "# Initialize variables for calculating average time for respective method\n",
    "avg = 0\n",
    "count = 0\n",
    "\n",
    "# Creating an NxNxN matrix of spheres, the range was modified in order to make calling of the sphere objects more intuitive\n",
    "for x in range (1, N+1):\n",
    "    for y in range (1, N+1):\n",
    "        for z in range (1, N+1):\n",
    "            velocity = vector(x, y, z)\n",
    "            hydrogen1 =  sphere(pos = vector(x*(spacing+2), y*spacing, z*spacing), velocity = vector(0,0,0), mass = mass, radius = diameter/2, visible = True, color = color.red)\n",
    "            hydrogen2 =  sphere(pos = vector(x*(spacing-2), y*spacing, z*spacing), velocity = vector(0,0,0), mass = mass, radius = diameter/2, visible = True, color = color.red)\n",
    "            oxygen =  sphere(pos = vector(x*spacing, y*(spacing+2), z*spacing), velocity = vector(0,0,0), mass = mass, radius = diameter, visible = True, color = color.blue)\n",
    "            water[(x, y, z)] = compound([hydrogen1, hydrogen2, oxygen], pos = vector(x*spacing, y*spacing, z*spacing), velocity = velocity.random())\n",
    "    \n",
    "# Here we check that all velocities are initialized at random from to hold a value between -1 to 1\n",
    "# for x in range (1, N+1):\n",
    "#     for y in range (1, N+1):\n",
    "#         for z in range (1, N+1):\n",
    "#             check = water[(x, y, z)].velocity\n",
    "#             print(check)\n",
    "            \n",
    "while t < 220:\n",
    "    rate(80)\n",
    "    temp = water[(1,1,1)]\n",
    "    # Here we utilize the explicit/forward euler integration method\n",
    "    for x in range (1, N+1):\n",
    "        for y in range (1, N+1):\n",
    "            for z in range (1, N+1):\n",
    "                \n",
    "                # Index objects\n",
    "                w = water[(x, y, z)]\n",
    "                    \n",
    "                # Update acceleration, velocity, and position. We subtract a vector for better visualization of the change in energy\n",
    "                a = (-k*w.pos)/mass\n",
    "                w.velocity += a * dt\n",
    "                starttime = timeit.default_timer()\n",
    "                #print(\"The start time is :\",starttime)\n",
    "                w.pos +=  w.velocity*dt\n",
    "                #print(\"The time difference for the Forward EUler is :\", timeit.default_timer() - starttime)\n",
    "                tempavg = timeit.default_timer() - starttime\n",
    "                avg += tempavg\n",
    "                \n",
    "                # Handle molecular collisions\n",
    "                if (temp.pos == w.pos):\n",
    "                    w.pos = -w.pos\n",
    "                \n",
    "                # Handle wall collisions\n",
    "                if w.pos.x > wallR.pos.x - 8:\n",
    "                    w.velocity.x = -w.velocity.x\n",
    "                elif w.pos.x < wallL.pos.x + 8:\n",
    "                    w.velocity.x = -w.velocity.x\n",
    "                elif w.pos.y > wallU.pos.y - 8:\n",
    "                    w.velocity.y = -w.velocity.y\n",
    "                elif w.pos.y < wallD.pos.y + 8:\n",
    "                    w.velocity.y = -w.velocity.y\n",
    "                elif w.pos.z > -wallB.pos.z - 8:    \n",
    "                    w.velocity.z = -w.velocity.z\n",
    "                elif w.pos.z < wallB.pos.z + 8:\n",
    "                    w.velocity.z = -w.velocity.z\n",
    "                    \n",
    "                temp = w\n",
    "                \n",
    "                # Kinetic and Potential energy calculations\n",
    "                tempKE = (mass/2)*(pow(w.velocity.x,2)+pow(w.velocity.y,2)+pow(w.velocity.z,2))\n",
    "                tempPE = (k/2)*(pow(w.pos.x,2)+pow(w.pos.y,2)+pow(w.pos.z,2))\n",
    "                tempTE = tempKE + tempPE\n",
    "                KE += tempKE\n",
    "                PE += tempPE\n",
    "                TE = KE + PE\n",
    "                t += dt\n",
    "                count += 1\n",
    "            \n",
    "    average = avg / count\n",
    "    #print(\"Time average time for Forward Euler is: \", average)\n",
    "    # Append values to list, since we are outside the for loops we get the energy of the system\n",
    "    time.append(t)\n",
    "    kinetic.append(KE)\n",
    "    potential.append(PE)\n",
    "    total.append(TE)\n",
    "    \n",
    "    # Plot the energy of the system\n",
    "    plt.plot(time, kinetic)\n",
    "    plt.plot(time, potential)\n",
    "    plt.plot(time, total)\n",
    "    plt.title('Energy of System')\n",
    "    plt.xlabel('Time [s]')\n",
    "    plt.ylabel('Energy [J]')\n",
    "    plt.legend(['Kinetic', 'Potential', 'Total'])"
   ]
  },
  {
   "cell_type": "markdown",
   "id": "bab5eb54",
   "metadata": {},
   "source": [
    "<h2><font color=\"black\">Analysis</font></h2>"
   ]
  },
  {
   "cell_type": "markdown",
   "id": "e34d4595",
   "metadata": {},
   "source": [
    "<h4><font color=\"black\">A 2x2x2 lattice of water molecules was created using the compound object. We make a water compound using two hydrogen spheres and one oxygen sphere. A box object is used as a periodic boundary condition. Interactions between the boundary and molecules are taken care of with decision statements. Wikipedia was used to look up Lennard Jones and electrostatic \n",
    "forces. </font></h4>"
   ]
  }
 ],
 "metadata": {
  "kernelspec": {
   "display_name": "Python 3 (ipykernel)",
   "language": "python",
   "name": "python3"
  },
  "language_info": {
   "codemirror_mode": {
    "name": "ipython",
    "version": 3
   },
   "file_extension": ".py",
   "mimetype": "text/x-python",
   "name": "python",
   "nbconvert_exporter": "python",
   "pygments_lexer": "ipython3",
   "version": "3.7.11"
  }
 },
 "nbformat": 4,
 "nbformat_minor": 5
}
