{
 "cells": [
  {
   "cell_type": "markdown",
   "id": "93e5b783",
   "metadata": {},
   "source": [
    "<h2><font color=\"magenta\">Making The Ball Bounce Inside The Box</font></h2>"
   ]
  },
  {
   "cell_type": "markdown",
   "id": "f8a5d92a",
   "metadata": {},
   "source": [
    "<h4><font color=\"black\">By navigating to \"Help -> Edit Keyboard Shortcuts -> run all cells below\" I added a keyboard shortcut so that I could run all cells below, starting from the top cell by executing the specified command. I'm mentioning this because I am new to Jupyter Notebook and I'm not sure how this works on your end. I tried to deconstruct the code in order to add proper commenting. </font></h4>"
   ]
  },
  {
   "cell_type": "markdown",
   "id": "614946cb",
   "metadata": {},
   "source": [
    "<h3><font color=\"magenta\">VPython allows us to create objects in 3D space and display them in a window.</font><h3>"
   ]
  },
  {
   "cell_type": "code",
   "execution_count": null,
   "id": "c0b7dc2b",
   "metadata": {},
   "outputs": [],
   "source": [
    "from vpython import* "
   ]
  },
  {
   "cell_type": "markdown",
   "id": "64989ec2",
   "metadata": {},
   "source": [
    "<h3><font color=\"magenta\">Running the cell below will reset the scene.</font></h3>"
   ]
  },
  {
   "cell_type": "code",
   "execution_count": null,
   "id": "8b7d25e4",
   "metadata": {},
   "outputs": [],
   "source": [
    "scene = canvas() "
   ]
  },
  {
   "cell_type": "markdown",
   "id": "585e56c8",
   "metadata": {},
   "source": [
    "<h3><font color=\"magenta\">The ball is initially positioned at the origin and the walls are positioned around the ball. The position and size of the three dimensional vectors both follow the convention vector(x,y,z). Velocity is a vector as well.</font></h3>"
   ]
  },
  {
   "cell_type": "code",
   "execution_count": null,
   "id": "3482cd1e",
   "metadata": {},
   "outputs": [],
   "source": [
    "ball = sphere(pos=vector(0,0,0), radius=0.5, color=color.magenta, make_trail=True, retain=100)\n",
    "wallR = box(pos=vector(6,0,0), size=vector(0.2,12,12), color=color.white)\n",
    "wallL = box(pos=vector(-6,0,0), size=vector(0.2,12,12), color=color.white)\n",
    "wallU = box(pos=vector(0,6,0), size=vector(12,0.2,12), color=color.white)\n",
    "wallD = box(pos=vector(0,-6,0), size=vector(12,0.2,12), color=color.white)\n",
    "wallB = box(pos=vector(0,0,-6), size=vector(12,12,0.2), color=color.white)\n",
    "ball.velocity = vector(25,5,15)\n",
    "\n",
    "# Note: The front wall could be initialized with opacity = 0 in order to make it transparent. \n",
    "#       Not instantiating the wall object is probably more efficient.\n",
    "# wallF = box(pos=vector(0,0,6), size=vector(12,12,0.2), color=color.white, opacity=0)"
   ]
  },
  {
   "cell_type": "markdown",
   "id": "282dfc82",
   "metadata": {},
   "source": [
    "<h3><font color=\"magenta\">The arrow for the ball is initialized and scaled down to fit the scene. Autoscale is disabled.</font></h3>"
   ]
  },
  {
   "cell_type": "code",
   "execution_count": null,
   "id": "3ca7ff18",
   "metadata": {},
   "outputs": [],
   "source": [
    "vscale = 0.1\n",
    "varr = arrow(pos=ball.pos, axis=vscale*ball.velocity, color=color.cyan)\n",
    "scene.autoscale = False"
   ]
  },
  {
   "cell_type": "markdown",
   "id": "46f0454d",
   "metadata": {},
   "source": [
    "<h3><font color=\"magenta\">The change in time and initial time are initialized below. The positions of the ball and arrow are updated in the while loop with their corresponding assignment relation. The decision statements account for all collisions on the x, y, and z axes. Each collision is given a buffer of 0.3, buffer = radius of ball - thickness of wall. The most recent ball to wall collision will turn cyan.</font></h3>"
   ]
  },
  {
   "cell_type": "code",
   "execution_count": null,
   "id": "69f9ef79",
   "metadata": {},
   "outputs": [],
   "source": [
    "deltat = 0.005\n",
    "t = 0 \n",
    "\n",
    "while t < 3e4:\n",
    "    rate(100)\n",
    "    if ball.pos.x > wallR.pos.x - 0.3:\n",
    "        ball.velocity.x = -ball.velocity.x\n",
    "        wallR.color = color.cyan\n",
    "        wallL.color = color.white\n",
    "        wallU.color = color.white\n",
    "        wallD.color = color.white\n",
    "        wallB.color = color.white\n",
    "    elif ball.pos.x < wallL.pos.x + 0.3:\n",
    "        ball.velocity.x = -ball.velocity.x\n",
    "        wallR.color = color.white\n",
    "        wallL.color = color.cyan\n",
    "        wallU.color = color.white\n",
    "        wallD.color = color.white\n",
    "        wallB.color = color.white\n",
    "    elif ball.pos.y > wallU.pos.y - 0.3:\n",
    "        ball.velocity.y = -ball.velocity.y\n",
    "        wallR.color = color.white\n",
    "        wallL.color = color.white\n",
    "        wallU.color = color.cyan\n",
    "        wallD.color = color.white\n",
    "        wallB.color = color.white\n",
    "    elif ball.pos.y < wallD.pos.y + 0.3:\n",
    "        ball.velocity.y = -ball.velocity.y\n",
    "        wallR.color = color.white\n",
    "        wallL.color = color.white\n",
    "        wallU.color = color.white\n",
    "        wallD.color = color.cyan\n",
    "        wallB.color = color.white\n",
    "    elif ball.pos.z > -wallB.pos.z - 0.3:    \n",
    "        ball.velocity.z = -ball.velocity.z\n",
    "    elif ball.pos.z < wallB.pos.z + 0.3:\n",
    "        ball.velocity.z = -ball.velocity.z\n",
    "        wallR.color = color.white\n",
    "        wallL.color = color.white\n",
    "        wallU.color = color.white\n",
    "        wallD.color = color.white\n",
    "        wallB.color = color.cyan \n",
    "        \n",
    "    ball.pos = ball.pos + ball.velocity*deltat\n",
    "    varr.pos = ball.pos\n",
    "    varr.axis = vscale*ball.velocity\n",
    "    t = t + deltat"
   ]
  },
  {
   "cell_type": "markdown",
   "id": "5c8f87b5",
   "metadata": {},
   "source": [
    "<h2><font color=\"magenta\">Analysis</font></h2>"
   ]
  },
  {
   "cell_type": "markdown",
   "id": "06d79524",
   "metadata": {},
   "source": [
    "<h4><font color=\"black\">The simulation works as intended. The ball bounces off all surfaces of the box, including the transparent front surface. The ball has the correct initial velocity, leaves a trail, and an arrow that indicates the direction the ball is traveling. As the tutorial pointed out, this model could be useful at representing a gas in a container. </font></h4>"
   ]
  },
  {
   "cell_type": "markdown",
   "id": "88323242",
   "metadata": {},
   "source": [
    "<h2><font color=\"magenta\">Goals</font></h2>"
   ]
  },
  {
   "cell_type": "markdown",
   "id": "1192fe43",
   "metadata": {},
   "source": [
    "<h4><font color=\"black\">My main goals are to learn about and utilize new tools, as well as to get better at programming. I am interested in modeling physical systems and I see the relevance when it comes to presenting ideas for education and for the creation of games! I chose to take this course because I think that these concepts will be applicable for my upcoming job, although I will be using C# and the WPF UI framework initially. I expect to learn how to properly approach thinking about a physical system, and modeling it in a logical and creative way. I will be very happy when the skills I learn in this course enable me to successfully model something like radioactive decay.</font></h4>"
   ]
  }
 ],
 "metadata": {
  "kernelspec": {
   "display_name": "Python 3 (ipykernel)",
   "language": "python",
   "name": "python3"
  },
  "language_info": {
   "codemirror_mode": {
    "name": "ipython",
    "version": 3
   },
   "file_extension": ".py",
   "mimetype": "text/x-python",
   "name": "python",
   "nbconvert_exporter": "python",
   "pygments_lexer": "ipython3",
   "version": "3.7.11"
  }
 },
 "nbformat": 4,
 "nbformat_minor": 5
}
